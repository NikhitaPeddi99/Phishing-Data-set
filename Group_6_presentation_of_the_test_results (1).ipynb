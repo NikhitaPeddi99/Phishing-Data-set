{
 "cells": [
  {
   "cell_type": "code",
   "execution_count": 18,
   "id": "d23592c4",
   "metadata": {},
   "outputs": [],
   "source": [
    "from sklearn.model_selection import train_test_split\n",
    "import pandas as pd\n",
    "import numpy as np\n",
    "from sklearn.metrics import mean_squared_error\n",
    "from sklearn.metrics import r2_score\n",
    "import pickle\n",
    "from skelm import ELMClassifier\n",
    "from sklearn.metrics import accuracy_score, recall_score,confusion_matrix\n"
   ]
  },
  {
   "cell_type": "code",
   "execution_count": 23,
   "id": "6c409387",
   "metadata": {},
   "outputs": [],
   "source": [
    "import pickle\n",
    "#Load the trained sgd model\n",
    "svc_linear       = pickle.load(open('svc_linear.sav', 'rb'))\n",
    "elm_classifier   = pickle.load(open('elm_classifier.sav', 'rb'))\n",
    "mlp_classifier   = pickle.load(open('mlp_classifier.sav', 'rb'))\n",
    "rf_bidirection   = pickle.load(open('rf_bidirection.sav', 'rb'))\n",
    "rf_first_variable= pickle.load(open('rf_first_variable.sav', 'rb'))\n",
    "\n",
    "data=pd.read_csv('Group_6_data_cleaned.csv')\n",
    "df = data.drop(['Unnamed: 0'],axis=1)\n",
    "x= df.drop(['Result'],axis=1)\n",
    "y = df['Result']\n",
    "\n",
    "# Oversampling and transform the dataset\n",
    "import imblearn\n",
    "from imblearn.over_sampling import SMOTE\n",
    "oversample = SMOTE()\n",
    "x,y= oversample.fit_resample(x, y)\n",
    "\n",
    "#Extracts test set from the dataset\n",
    "# keeping the random_state value same makes the function to split same rows into training and testing every time\n",
    "x_train, x_test, y_train, y_test = train_test_split(x, y, test_size = 0.2, random_state=30)"
   ]
  },
  {
   "cell_type": "code",
   "execution_count": 4,
   "id": "112d73de",
   "metadata": {},
   "outputs": [],
   "source": [
    "from sklearn.metrics import accuracy_score,f1_score,recall_score,classification_report,confusion_matrix,roc_auc_score"
   ]
  },
  {
   "cell_type": "markdown",
   "id": "3d273488",
   "metadata": {},
   "source": [
    "## SVC Linear model Test Results"
   ]
  },
  {
   "cell_type": "code",
   "execution_count": 5,
   "id": "85779a54",
   "metadata": {},
   "outputs": [
    {
     "name": "stdout",
     "output_type": "stream",
     "text": [
      "accuracy score is  0.8033175355450237\n",
      "f1_score is  0.8036686818486966\n",
      "recall score is  0.8033175355450237\n"
     ]
    }
   ],
   "source": [
    "svc_linear.fit(x_train,y_train)\n",
    "y_test_p = svc_linear.predict(x_test)\n",
    "print(\"accuracy score is \",accuracy_score(y_test,y_test_p))\n",
    "print(\"f1_score is \",f1_score(y_test,y_test_p,average='weighted'))\n",
    "print(\"recall score is \",recall_score(y_test,y_test_p,average='weighted'))"
   ]
  },
  {
   "cell_type": "code",
   "execution_count": 6,
   "id": "1e04e751",
   "metadata": {},
   "outputs": [
    {
     "name": "stdout",
     "output_type": "stream",
     "text": [
      "              precision    recall  f1-score   support\n",
      "\n",
      "          -1       0.86      0.83      0.84       153\n",
      "           0       0.81      0.83      0.82       149\n",
      "           1       0.73      0.74      0.74       120\n",
      "\n",
      "    accuracy                           0.80       422\n",
      "   macro avg       0.80      0.80      0.80       422\n",
      "weighted avg       0.80      0.80      0.80       422\n",
      "\n"
     ]
    }
   ],
   "source": [
    "print(classification_report(y_test,y_test_p))"
   ]
  },
  {
   "cell_type": "code",
   "execution_count": 7,
   "id": "bef6aea8",
   "metadata": {},
   "outputs": [
    {
     "name": "stdout",
     "output_type": "stream",
     "text": [
      "[[127  13  13]\n",
      " [  6 123  20]\n",
      " [ 15  16  89]]\n"
     ]
    }
   ],
   "source": [
    "print(confusion_matrix(y_test,y_test_p))"
   ]
  },
  {
   "cell_type": "markdown",
   "id": "ca54dfce",
   "metadata": {},
   "source": [
    "# ELM Moodel Test Results"
   ]
  },
  {
   "cell_type": "code",
   "execution_count": 8,
   "id": "f4708aa6",
   "metadata": {},
   "outputs": [
    {
     "name": "stdout",
     "output_type": "stream",
     "text": [
      "accuracy score is  0.8554502369668247\n",
      "f1_score is  0.8563159108044792\n",
      "recall score is  0.8554502369668247\n"
     ]
    }
   ],
   "source": [
    "elm_classifier.fit(x_train,y_train)\n",
    "y_test_p = elm_classifier.predict(x_test)\n",
    "print(\"accuracy score is \",accuracy_score(y_test,y_test_p))\n",
    "print(\"f1_score is \",f1_score(y_test,y_test_p,average='weighted'))\n",
    "print(\"recall score is \",recall_score(y_test,y_test_p,average='weighted'))"
   ]
  },
  {
   "cell_type": "code",
   "execution_count": 9,
   "id": "8be3fb32",
   "metadata": {},
   "outputs": [
    {
     "name": "stdout",
     "output_type": "stream",
     "text": [
      "              precision    recall  f1-score   support\n",
      "\n",
      "          -1       0.87      0.86      0.86       153\n",
      "           0       0.91      0.84      0.87       149\n",
      "           1       0.78      0.88      0.82       120\n",
      "\n",
      "    accuracy                           0.86       422\n",
      "   macro avg       0.85      0.86      0.85       422\n",
      "weighted avg       0.86      0.86      0.86       422\n",
      "\n"
     ]
    }
   ],
   "source": [
    "print(classification_report(y_test,y_test_p))"
   ]
  },
  {
   "cell_type": "code",
   "execution_count": 10,
   "id": "ce931a81",
   "metadata": {},
   "outputs": [
    {
     "name": "stdout",
     "output_type": "stream",
     "text": [
      "[[131   6  16]\n",
      " [ 10 125  14]\n",
      " [  9   6 105]]\n"
     ]
    }
   ],
   "source": [
    "print(confusion_matrix(y_test,y_test_p))"
   ]
  },
  {
   "cell_type": "markdown",
   "id": "5368d379",
   "metadata": {},
   "source": [
    "# MLP Model Test Results"
   ]
  },
  {
   "cell_type": "code",
   "execution_count": 11,
   "id": "c9643653",
   "metadata": {},
   "outputs": [
    {
     "name": "stdout",
     "output_type": "stream",
     "text": [
      "accuracy score is  0.7914691943127962\n",
      "f1_score is  0.7932227369855548\n",
      "recall score is  0.7914691943127962\n"
     ]
    }
   ],
   "source": [
    "mlp_classifier.fit(x_train,y_train)\n",
    "y_test_p = mlp_classifier.predict(x_test)\n",
    "print(\"accuracy score is \",accuracy_score(y_test,y_test_p))\n",
    "print(\"f1_score is \",f1_score(y_test,y_test_p,average='weighted'))\n",
    "print(\"recall score is \",recall_score(y_test,y_test_p,average='weighted'))"
   ]
  },
  {
   "cell_type": "code",
   "execution_count": 12,
   "id": "a80d521a",
   "metadata": {},
   "outputs": [
    {
     "name": "stdout",
     "output_type": "stream",
     "text": [
      "              precision    recall  f1-score   support\n",
      "\n",
      "          -1       0.89      0.79      0.84       153\n",
      "           0       0.79      0.81      0.80       149\n",
      "           1       0.70      0.77      0.73       120\n",
      "\n",
      "    accuracy                           0.79       422\n",
      "   macro avg       0.79      0.79      0.79       422\n",
      "weighted avg       0.80      0.79      0.79       422\n",
      "\n"
     ]
    }
   ],
   "source": [
    "print(classification_report(y_test,y_test_p))"
   ]
  },
  {
   "cell_type": "code",
   "execution_count": 13,
   "id": "714029ed",
   "metadata": {},
   "outputs": [
    {
     "name": "stdout",
     "output_type": "stream",
     "text": [
      "[[121  16  16]\n",
      " [  4 121  24]\n",
      " [ 11  17  92]]\n"
     ]
    }
   ],
   "source": [
    "print(confusion_matrix(y_test,y_test_p))"
   ]
  },
  {
   "cell_type": "markdown",
   "id": "d03c6fa3",
   "metadata": {},
   "source": [
    "# Best Model from Part 2 (Bi-Directional ): Random Forest\n"
   ]
  },
  {
   "cell_type": "code",
   "execution_count": 15,
   "id": "9d9f5fd6",
   "metadata": {},
   "outputs": [
    {
     "name": "stdout",
     "output_type": "stream",
     "text": [
      "accuracy score is  0.9289099526066351\n",
      "f1_score is  0.9284551256082211\n",
      "recall score is  0.9289099526066351\n"
     ]
    }
   ],
   "source": [
    "rf_bidirection.fit(x_train,y_train)\n",
    "y_test_p = rf_bidirection.predict(x_test)\n",
    "print(\"accuracy score is \",accuracy_score(y_test,y_test_p))\n",
    "print(\"f1_score is \",f1_score(y_test,y_test_p,average='weighted'))\n",
    "print(\"recall score is \",recall_score(y_test,y_test_p,average='weighted'))"
   ]
  },
  {
   "cell_type": "code",
   "execution_count": 16,
   "id": "e33f444f",
   "metadata": {},
   "outputs": [
    {
     "name": "stdout",
     "output_type": "stream",
     "text": [
      "              precision    recall  f1-score   support\n",
      "\n",
      "          -1       0.91      0.90      0.90       153\n",
      "           0       0.97      1.00      0.99       149\n",
      "           1       0.90      0.88      0.89       120\n",
      "\n",
      "    accuracy                           0.93       422\n",
      "   macro avg       0.93      0.93      0.93       422\n",
      "weighted avg       0.93      0.93      0.93       422\n",
      "\n"
     ]
    }
   ],
   "source": [
    "print(classification_report(y_test,y_test_p))"
   ]
  },
  {
   "cell_type": "code",
   "execution_count": 17,
   "id": "1ad7a00f",
   "metadata": {},
   "outputs": [
    {
     "name": "stdout",
     "output_type": "stream",
     "text": [
      "[[138   3  12]\n",
      " [  0 149   0]\n",
      " [ 14   1 105]]\n"
     ]
    }
   ],
   "source": [
    "print(confusion_matrix(y_test,y_test_p))"
   ]
  },
  {
   "cell_type": "markdown",
   "id": "1c455c2a",
   "metadata": {},
   "source": [
    "# Best Model from Part 3(Bi-Directional ): ELM\n"
   ]
  },
  {
   "cell_type": "code",
   "execution_count": 19,
   "id": "95ce721c",
   "metadata": {},
   "outputs": [],
   "source": [
    "# Define ELM classifier with default parameters\n",
    "clf = ELMClassifier()\n",
    "model_2 = ELMClassifier(n_neurons = 1000,ufunc = 'relu',alpha = 0.1)"
   ]
  },
  {
   "cell_type": "code",
   "execution_count": 20,
   "id": "23a9ea3a",
   "metadata": {},
   "outputs": [
    {
     "name": "stdout",
     "output_type": "stream",
     "text": [
      "accuracy score is  0.9265402843601895\n",
      "f1_score is  0.9257386735710097\n",
      "recall score is  0.9265402843601895\n"
     ]
    }
   ],
   "source": [
    "model_2.fit(x_train,y_train)\n",
    "elm_preds = model_2.predict(x_test)\n",
    "print(\"accuracy score is \",accuracy_score(y_test,elm_preds))\n",
    "print(\"f1_score is \",f1_score(y_test,elm_preds,average='weighted'))\n",
    "print(\"recall score is \",recall_score(y_test,elm_preds,average='weighted'))"
   ]
  },
  {
   "cell_type": "code",
   "execution_count": 21,
   "id": "55b25033",
   "metadata": {},
   "outputs": [
    {
     "name": "stdout",
     "output_type": "stream",
     "text": [
      "              precision    recall  f1-score   support\n",
      "\n",
      "          -1       0.91      0.90      0.90       153\n",
      "           0       0.97      1.00      0.99       149\n",
      "           1       0.90      0.88      0.89       120\n",
      "\n",
      "    accuracy                           0.93       422\n",
      "   macro avg       0.93      0.93      0.93       422\n",
      "weighted avg       0.93      0.93      0.93       422\n",
      "\n"
     ]
    }
   ],
   "source": [
    "print(classification_report(y_test,y_test_p))"
   ]
  },
  {
   "cell_type": "code",
   "execution_count": 22,
   "id": "e7170874",
   "metadata": {},
   "outputs": [
    {
     "name": "stdout",
     "output_type": "stream",
     "text": [
      "[[138   3  12]\n",
      " [  0 149   0]\n",
      " [ 14   1 105]]\n"
     ]
    }
   ],
   "source": [
    "print(confusion_matrix(y_test,y_test_p))"
   ]
  },
  {
   "cell_type": "markdown",
   "id": "7fb206b3",
   "metadata": {},
   "source": [
    "# Best Model from Part 2(first-variable-selection ): Random Forest\n"
   ]
  },
  {
   "cell_type": "code",
   "execution_count": 24,
   "id": "1c644768",
   "metadata": {},
   "outputs": [
    {
     "name": "stdout",
     "output_type": "stream",
     "text": [
      "accuracy score is  0.9265402843601895\n",
      "f1_score is  0.9263737864495399\n",
      "recall score is  0.9265402843601895\n"
     ]
    }
   ],
   "source": [
    "rf_first_variable.fit(x_train,y_train)\n",
    "y_test_p = rf_first_variable.predict(x_test)\n",
    "print(\"accuracy score is \",accuracy_score(y_test,y_test_p))\n",
    "print(\"f1_score is \",f1_score(y_test,y_test_p,average='weighted'))\n",
    "print(\"recall score is \",recall_score(y_test,y_test_p,average='weighted'))"
   ]
  },
  {
   "cell_type": "code",
   "execution_count": 25,
   "id": "5db4f54e",
   "metadata": {},
   "outputs": [
    {
     "name": "stdout",
     "output_type": "stream",
     "text": [
      "              precision    recall  f1-score   support\n",
      "\n",
      "          -1       0.90      0.92      0.91       153\n",
      "           0       0.97      0.97      0.97       149\n",
      "           1       0.91      0.88      0.89       120\n",
      "\n",
      "    accuracy                           0.93       422\n",
      "   macro avg       0.93      0.92      0.92       422\n",
      "weighted avg       0.93      0.93      0.93       422\n",
      "\n"
     ]
    }
   ],
   "source": [
    "print(classification_report(y_test,y_test_p))"
   ]
  },
  {
   "cell_type": "code",
   "execution_count": 26,
   "id": "74fdc016",
   "metadata": {},
   "outputs": [
    {
     "name": "stdout",
     "output_type": "stream",
     "text": [
      "[[141   3   9]\n",
      " [  3 145   1]\n",
      " [ 13   2 105]]\n"
     ]
    }
   ],
   "source": [
    "print(confusion_matrix(y_test,y_test_p))"
   ]
  },
  {
   "cell_type": "markdown",
   "id": "ff317c39",
   "metadata": {},
   "source": [
    "# Best Model from Part 3(first-variable-selection ): ELM\n"
   ]
  },
  {
   "cell_type": "code",
   "execution_count": 28,
   "id": "da95d009",
   "metadata": {},
   "outputs": [
    {
     "data": {
      "text/plain": [
       "ELMClassifier(alpha=0.001, n_neurons=1000)"
      ]
     },
     "execution_count": 28,
     "metadata": {},
     "output_type": "execute_result"
    }
   ],
   "source": [
    "model_2 = ELMClassifier(alpha=0.001, n_neurons=1000)\n",
    "model_2.fit(x_train,y_train)"
   ]
  },
  {
   "cell_type": "code",
   "execution_count": 29,
   "id": "8da29719",
   "metadata": {},
   "outputs": [
    {
     "name": "stdout",
     "output_type": "stream",
     "text": [
      "accuracy score is  0.8412322274881516\n",
      "f1_score is  0.8434340758134908\n",
      "recall score is  0.8412322274881516\n"
     ]
    }
   ],
   "source": [
    "elm_preds = model_2.predict(x_test)\n",
    "print(\"accuracy score is \",accuracy_score(y_test,elm_preds))\n",
    "print(\"f1_score is \",f1_score(y_test,elm_preds,average='weighted'))\n",
    "print(\"recall score is \",recall_score(y_test,elm_preds,average='weighted'))"
   ]
  }
 ],
 "metadata": {
  "kernelspec": {
   "display_name": "Python 3 (ipykernel)",
   "language": "python",
   "name": "python3"
  },
  "language_info": {
   "codemirror_mode": {
    "name": "ipython",
    "version": 3
   },
   "file_extension": ".py",
   "mimetype": "text/x-python",
   "name": "python",
   "nbconvert_exporter": "python",
   "pygments_lexer": "ipython3",
   "version": "3.9.13"
  }
 },
 "nbformat": 4,
 "nbformat_minor": 5
}
