{
 "cells": [
  {
   "cell_type": "code",
   "execution_count": 1,
   "id": "efbeb7cc",
   "metadata": {},
   "outputs": [],
   "source": [
    "import pandas as pd\n",
    "import numpy as np\n"
   ]
  },
  {
   "cell_type": "code",
   "execution_count": 2,
   "id": "f5c51e0c",
   "metadata": {},
   "outputs": [
    {
     "data": {
      "text/html": [
       "<div>\n",
       "<style scoped>\n",
       "    .dataframe tbody tr th:only-of-type {\n",
       "        vertical-align: middle;\n",
       "    }\n",
       "\n",
       "    .dataframe tbody tr th {\n",
       "        vertical-align: top;\n",
       "    }\n",
       "\n",
       "    .dataframe thead th {\n",
       "        text-align: right;\n",
       "    }\n",
       "</style>\n",
       "<table border=\"1\" class=\"dataframe\">\n",
       "  <thead>\n",
       "    <tr style=\"text-align: right;\">\n",
       "      <th></th>\n",
       "      <th>Unnamed: 0</th>\n",
       "      <th>SFH</th>\n",
       "      <th>popUpWidnow</th>\n",
       "      <th>SSLfinal_State</th>\n",
       "      <th>Request_URL</th>\n",
       "      <th>URL_of_Anchor</th>\n",
       "      <th>web_traffic</th>\n",
       "      <th>URL_Length</th>\n",
       "      <th>age_of_domain</th>\n",
       "      <th>having_IP_Address</th>\n",
       "      <th>Result</th>\n",
       "    </tr>\n",
       "  </thead>\n",
       "  <tbody>\n",
       "    <tr>\n",
       "      <th>0</th>\n",
       "      <td>0</td>\n",
       "      <td>1</td>\n",
       "      <td>-1</td>\n",
       "      <td>1</td>\n",
       "      <td>-1</td>\n",
       "      <td>-1</td>\n",
       "      <td>1</td>\n",
       "      <td>1</td>\n",
       "      <td>1</td>\n",
       "      <td>0</td>\n",
       "      <td>0</td>\n",
       "    </tr>\n",
       "    <tr>\n",
       "      <th>1</th>\n",
       "      <td>1</td>\n",
       "      <td>-1</td>\n",
       "      <td>-1</td>\n",
       "      <td>-1</td>\n",
       "      <td>-1</td>\n",
       "      <td>-1</td>\n",
       "      <td>0</td>\n",
       "      <td>1</td>\n",
       "      <td>1</td>\n",
       "      <td>1</td>\n",
       "      <td>1</td>\n",
       "    </tr>\n",
       "    <tr>\n",
       "      <th>2</th>\n",
       "      <td>2</td>\n",
       "      <td>1</td>\n",
       "      <td>-1</td>\n",
       "      <td>0</td>\n",
       "      <td>0</td>\n",
       "      <td>-1</td>\n",
       "      <td>0</td>\n",
       "      <td>-1</td>\n",
       "      <td>1</td>\n",
       "      <td>0</td>\n",
       "      <td>1</td>\n",
       "    </tr>\n",
       "    <tr>\n",
       "      <th>3</th>\n",
       "      <td>3</td>\n",
       "      <td>1</td>\n",
       "      <td>0</td>\n",
       "      <td>1</td>\n",
       "      <td>-1</td>\n",
       "      <td>-1</td>\n",
       "      <td>0</td>\n",
       "      <td>1</td>\n",
       "      <td>1</td>\n",
       "      <td>0</td>\n",
       "      <td>0</td>\n",
       "    </tr>\n",
       "    <tr>\n",
       "      <th>4</th>\n",
       "      <td>4</td>\n",
       "      <td>-1</td>\n",
       "      <td>-1</td>\n",
       "      <td>1</td>\n",
       "      <td>-1</td>\n",
       "      <td>0</td>\n",
       "      <td>0</td>\n",
       "      <td>-1</td>\n",
       "      <td>1</td>\n",
       "      <td>0</td>\n",
       "      <td>1</td>\n",
       "    </tr>\n",
       "  </tbody>\n",
       "</table>\n",
       "</div>"
      ],
      "text/plain": [
       "   Unnamed: 0  SFH  popUpWidnow  SSLfinal_State  Request_URL  URL_of_Anchor  \\\n",
       "0           0    1           -1               1           -1             -1   \n",
       "1           1   -1           -1              -1           -1             -1   \n",
       "2           2    1           -1               0            0             -1   \n",
       "3           3    1            0               1           -1             -1   \n",
       "4           4   -1           -1               1           -1              0   \n",
       "\n",
       "   web_traffic  URL_Length  age_of_domain  having_IP_Address  Result  \n",
       "0            1           1              1                  0       0  \n",
       "1            0           1              1                  1       1  \n",
       "2            0          -1              1                  0       1  \n",
       "3            0           1              1                  0       0  \n",
       "4            0          -1              1                  0       1  "
      ]
     },
     "execution_count": 2,
     "metadata": {},
     "output_type": "execute_result"
    }
   ],
   "source": [
    "data = pd.read_csv('Group_6_data_cleaned.csv')\n",
    "data.head()"
   ]
  },
  {
   "cell_type": "code",
   "execution_count": 3,
   "id": "9f1c597d",
   "metadata": {},
   "outputs": [
    {
     "data": {
      "text/plain": [
       "Index(['Unnamed: 0', 'SFH', 'popUpWidnow', 'SSLfinal_State', 'Request_URL',\n",
       "       'URL_of_Anchor', 'web_traffic', 'URL_Length', 'age_of_domain',\n",
       "       'having_IP_Address', 'Result'],\n",
       "      dtype='object')"
      ]
     },
     "execution_count": 3,
     "metadata": {},
     "output_type": "execute_result"
    }
   ],
   "source": [
    "data.columns"
   ]
  },
  {
   "cell_type": "code",
   "execution_count": 4,
   "id": "e49931a0",
   "metadata": {},
   "outputs": [],
   "source": [
    "# removing redundant column\n",
    "df = data.drop(['Unnamed: 0'],axis=1)"
   ]
  },
  {
   "cell_type": "code",
   "execution_count": 5,
   "id": "7c4e09c6",
   "metadata": {},
   "outputs": [
    {
     "data": {
      "text/plain": [
       "(1353, 10)"
      ]
     },
     "execution_count": 5,
     "metadata": {},
     "output_type": "execute_result"
    }
   ],
   "source": [
    "df.shape"
   ]
  },
  {
   "cell_type": "code",
   "execution_count": 6,
   "id": "9d6faefe",
   "metadata": {},
   "outputs": [
    {
     "name": "stdout",
     "output_type": "stream",
     "text": [
      "<class 'pandas.core.frame.DataFrame'>\n",
      "RangeIndex: 1353 entries, 0 to 1352\n",
      "Data columns (total 10 columns):\n",
      " #   Column             Non-Null Count  Dtype\n",
      "---  ------             --------------  -----\n",
      " 0   SFH                1353 non-null   int64\n",
      " 1   popUpWidnow        1353 non-null   int64\n",
      " 2   SSLfinal_State     1353 non-null   int64\n",
      " 3   Request_URL        1353 non-null   int64\n",
      " 4   URL_of_Anchor      1353 non-null   int64\n",
      " 5   web_traffic        1353 non-null   int64\n",
      " 6   URL_Length         1353 non-null   int64\n",
      " 7   age_of_domain      1353 non-null   int64\n",
      " 8   having_IP_Address  1353 non-null   int64\n",
      " 9   Result             1353 non-null   int64\n",
      "dtypes: int64(10)\n",
      "memory usage: 105.8 KB\n"
     ]
    }
   ],
   "source": [
    "df.info()"
   ]
  },
  {
   "cell_type": "code",
   "execution_count": 7,
   "id": "074efd58",
   "metadata": {},
   "outputs": [
    {
     "data": {
      "text/plain": [
       "array([ 0,  1, -1])"
      ]
     },
     "execution_count": 7,
     "metadata": {},
     "output_type": "execute_result"
    }
   ],
   "source": [
    "df['Result'].unique()"
   ]
  },
  {
   "cell_type": "code",
   "execution_count": 8,
   "id": "09cc584d",
   "metadata": {},
   "outputs": [],
   "source": [
    "from sklearn.linear_model import SGDClassifier\n",
    "from sklearn.model_selection import train_test_split\n",
    "from sklearn.preprocessing import StandardScaler"
   ]
  },
  {
   "cell_type": "markdown",
   "id": "945bbe7c",
   "metadata": {},
   "source": [
    "### SGD classifier "
   ]
  },
  {
   "cell_type": "code",
   "execution_count": 9,
   "id": "5990b601",
   "metadata": {},
   "outputs": [],
   "source": [
    "X = df.drop(['Result'],axis=1)\n",
    "y = df['Result']"
   ]
  },
  {
   "cell_type": "code",
   "execution_count": 10,
   "id": "d53ba7da",
   "metadata": {},
   "outputs": [
    {
     "name": "stdout",
     "output_type": "stream",
     "text": [
      "[[ 0.83184339 -1.09206271  0.81833407 ...  1.38168214  0.8\n",
      "  -0.35969752]\n",
      " [-1.35144295 -1.09206271 -1.61508571 ...  1.38168214  0.8\n",
      "   2.78011371]\n",
      " [ 0.83184339 -1.09206271 -0.39837582 ... -1.24205952  0.8\n",
      "  -0.35969752]\n",
      " ...\n",
      " [-1.35144295  0.38107871 -1.61508571 ... -1.24205952 -1.25\n",
      "  -0.35969752]\n",
      " [-0.25979978  0.38107871  0.81833407 ... -1.24205952  0.8\n",
      "  -0.35969752]\n",
      " [ 0.83184339  0.38107871  0.81833407 ... -1.24205952 -1.25\n",
      "  -0.35969752]]\n"
     ]
    }
   ],
   "source": [
    "# importing Standard scalar for the data transformation\n",
    "# Scaling is very important in the case of linear models\n",
    "from sklearn.preprocessing import StandardScaler\n",
    "scaler = StandardScaler()\n",
    "scaled_X = scaler.fit_transform(X)\n",
    "print(scaled_X)"
   ]
  },
  {
   "cell_type": "code",
   "execution_count": 11,
   "id": "3a949154",
   "metadata": {},
   "outputs": [],
   "source": [
    "X_train, X_test, y_train, y_test = train_test_split(scaled_X, y, test_size = 0.3, random_state=100)"
   ]
  },
  {
   "cell_type": "code",
   "execution_count": 12,
   "id": "b149989d",
   "metadata": {},
   "outputs": [],
   "source": [
    "from sklearn.metrics import confusion_matrix, classification_report, recall_score, accuracy_score, roc_auc_score,f1_score"
   ]
  },
  {
   "cell_type": "code",
   "execution_count": 13,
   "id": "9cbde6a2",
   "metadata": {},
   "outputs": [
    {
     "data": {
      "text/plain": [
       "SGDClassifier()"
      ]
     },
     "execution_count": 13,
     "metadata": {},
     "output_type": "execute_result"
    }
   ],
   "source": [
    "md = SGDClassifier()\n",
    "md.fit(X_train,y_train)\n"
   ]
  },
  {
   "cell_type": "markdown",
   "id": "2c3c7a26",
   "metadata": {},
   "source": [
    "### Hyper parameter with randomized search method "
   ]
  },
  {
   "cell_type": "code",
   "execution_count": 14,
   "id": "3954f57f",
   "metadata": {},
   "outputs": [
    {
     "data": {
      "text/plain": [
       "RandomizedSearchCV(estimator=SGDClassifier(),\n",
       "                   param_distributions={'alpha': [0.0001, 0.001, 0.01, 0.1, 1.0,\n",
       "                                                  0.1, 0.01],\n",
       "                                        'loss': ['log', 'hinge'],\n",
       "                                        'n_jobs': [-1, 1],\n",
       "                                        'penalty': ['l2', 'l1']},\n",
       "                   random_state=0)"
      ]
     },
     "execution_count": 14,
     "metadata": {},
     "output_type": "execute_result"
    }
   ],
   "source": [
    "from sklearn.model_selection import  RandomizedSearchCV\n",
    "parameters = {\n",
    "    'alpha': [1e-4, 1e-3, 1e-2, 1e-1, 1e-0,1e-1,1e-2], 'loss': ['log','hinge'], 'penalty': ['l2','l1'],'n_jobs': [-1,1]\n",
    "}\n",
    "sgd = SGDClassifier()\n",
    "randomized = RandomizedSearchCV(sgd,parameters,random_state=0)\n",
    "randomized.fit(X_train,y_train)"
   ]
  },
  {
   "cell_type": "code",
   "execution_count": 15,
   "id": "d58b8ca3",
   "metadata": {},
   "outputs": [
    {
     "data": {
      "text/plain": [
       "{'penalty': 'l2', 'n_jobs': -1, 'loss': 'log', 'alpha': 0.1}"
      ]
     },
     "execution_count": 15,
     "metadata": {},
     "output_type": "execute_result"
    }
   ],
   "source": [
    "randomized.best_params_"
   ]
  },
  {
   "cell_type": "code",
   "execution_count": 16,
   "id": "c25a74c2",
   "metadata": {},
   "outputs": [],
   "source": [
    "# sgd model with best hyper parameters\n",
    "import pickle\n",
    "sgd_model = SGDClassifier(penalty='l2',n_jobs=1,loss='log',alpha=0.1)\n",
    "sgd_model.fit(X_train,y_train)\n",
    "model_name = 'sgd_model.sav'\n",
    "pickle.dump(sgd_model, open(model_name, 'wb'))"
   ]
  },
  {
   "cell_type": "markdown",
   "id": "fd927ba5",
   "metadata": {},
   "source": [
    "### Evalution metrics "
   ]
  },
  {
   "cell_type": "code",
   "execution_count": 17,
   "id": "c1e6cbfe",
   "metadata": {},
   "outputs": [
    {
     "name": "stdout",
     "output_type": "stream",
     "text": [
      " The accuracy for traing data is 0.8416050686378036\n",
      " The accuracy for testing data is 0.8152709359605911\n",
      " The recall score for traing data is 0.8416050686378036 \n",
      " The recall score for testing data is 0.8152709359605911 \n",
      " The f-1 score for the training data is 0.8082113213941247\n",
      " The f-1 score for the testing data is 0.7826660246675803\n"
     ]
    }
   ],
   "source": [
    "# Trainina and testing accuracy\n",
    "y_train_pred = sgd_model.predict(X_train)\n",
    "y_test_pred  = sgd_model.predict(X_test)\n",
    "print(f\" The accuracy for traing data is {accuracy_score(y_train,y_train_pred)}\")\n",
    "print(f\" The accuracy for testing data is {accuracy_score(y_test,y_test_pred)}\")\n",
    "print(f\" The recall score for traing data is {recall_score(y_train,y_train_pred,average='weighted')} \")\n",
    "print(f\" The recall score for testing data is {recall_score(y_test,y_test_pred,average='weighted')} \")\n",
    "print(f\" The f-1 score for the training data is {f1_score(y_train,y_train_pred,average= 'weighted')}\")\n",
    "print(f\" The f-1 score for the testing data is {f1_score(y_test,y_test_pred,average= 'weighted')}\")\n"
   ]
  },
  {
   "cell_type": "code",
   "execution_count": 18,
   "id": "c46cae18",
   "metadata": {},
   "outputs": [
    {
     "name": "stdout",
     "output_type": "stream",
     "text": [
      " The training roc auc score 0.8684911610509247\n",
      " The testing roc auc score 0.8583788706739526\n"
     ]
    }
   ],
   "source": [
    "#roc auc score \n",
    "y_train_roc = sgd_model.predict_proba(X_train)\n",
    "y_test_roc = sgd_model.predict_proba(X_test)\n",
    "train_roc_score = roc_auc_score(y_train,y_train_roc,average='macro',multi_class='ovo')\n",
    "test_roc_score = roc_auc_score(y_test,y_test_roc,average='macro',multi_class='ovo')\n",
    "print(f\" The training roc auc score {train_roc_score}\")\n",
    "print(f\" The testing roc auc score {test_roc_score}\")"
   ]
  },
  {
   "cell_type": "code",
   "execution_count": 19,
   "id": "b48a9c2a",
   "metadata": {},
   "outputs": [
    {
     "name": "stdout",
     "output_type": "stream",
     "text": [
      "[[477   0  33]\n",
      " [ 36   0  36]\n",
      " [ 45   0 320]]\n"
     ]
    }
   ],
   "source": [
    "# confusion matrix for training data\n",
    "print(confusion_matrix(y_train,y_train_pred))"
   ]
  },
  {
   "cell_type": "code",
   "execution_count": 20,
   "id": "d0e2f749",
   "metadata": {},
   "outputs": [
    {
     "name": "stdout",
     "output_type": "stream",
     "text": [
      "[[179   0  13]\n",
      " [ 18   0  13]\n",
      " [ 31   0 152]]\n"
     ]
    }
   ],
   "source": [
    "# confusion matrix for testing data\n",
    "print(confusion_matrix(y_test,y_test_pred))"
   ]
  },
  {
   "cell_type": "code",
   "execution_count": 21,
   "id": "caf9eab1",
   "metadata": {},
   "outputs": [
    {
     "name": "stdout",
     "output_type": "stream",
     "text": [
      "              precision    recall  f1-score   support\n",
      "\n",
      "          -1       0.85      0.94      0.89       510\n",
      "           0       0.00      0.00      0.00        72\n",
      "           1       0.82      0.88      0.85       365\n",
      "\n",
      "    accuracy                           0.84       947\n",
      "   macro avg       0.56      0.60      0.58       947\n",
      "weighted avg       0.78      0.84      0.81       947\n",
      "\n"
     ]
    },
    {
     "name": "stderr",
     "output_type": "stream",
     "text": [
      "/Users/kirankumarvelinedi/opt/anaconda3/lib/python3.9/site-packages/sklearn/metrics/_classification.py:1318: UndefinedMetricWarning: Precision and F-score are ill-defined and being set to 0.0 in labels with no predicted samples. Use `zero_division` parameter to control this behavior.\n",
      "  _warn_prf(average, modifier, msg_start, len(result))\n",
      "/Users/kirankumarvelinedi/opt/anaconda3/lib/python3.9/site-packages/sklearn/metrics/_classification.py:1318: UndefinedMetricWarning: Precision and F-score are ill-defined and being set to 0.0 in labels with no predicted samples. Use `zero_division` parameter to control this behavior.\n",
      "  _warn_prf(average, modifier, msg_start, len(result))\n",
      "/Users/kirankumarvelinedi/opt/anaconda3/lib/python3.9/site-packages/sklearn/metrics/_classification.py:1318: UndefinedMetricWarning: Precision and F-score are ill-defined and being set to 0.0 in labels with no predicted samples. Use `zero_division` parameter to control this behavior.\n",
      "  _warn_prf(average, modifier, msg_start, len(result))\n"
     ]
    }
   ],
   "source": [
    "# classification report for training data \n",
    "print(classification_report(y_train,y_train_pred))"
   ]
  },
  {
   "cell_type": "code",
   "execution_count": 22,
   "id": "ff6abbf6",
   "metadata": {},
   "outputs": [
    {
     "name": "stdout",
     "output_type": "stream",
     "text": [
      "              precision    recall  f1-score   support\n",
      "\n",
      "          -1       0.79      0.93      0.85       192\n",
      "           0       0.00      0.00      0.00        31\n",
      "           1       0.85      0.83      0.84       183\n",
      "\n",
      "    accuracy                           0.82       406\n",
      "   macro avg       0.55      0.59      0.56       406\n",
      "weighted avg       0.76      0.82      0.78       406\n",
      "\n"
     ]
    },
    {
     "name": "stderr",
     "output_type": "stream",
     "text": [
      "/Users/kirankumarvelinedi/opt/anaconda3/lib/python3.9/site-packages/sklearn/metrics/_classification.py:1318: UndefinedMetricWarning: Precision and F-score are ill-defined and being set to 0.0 in labels with no predicted samples. Use `zero_division` parameter to control this behavior.\n",
      "  _warn_prf(average, modifier, msg_start, len(result))\n",
      "/Users/kirankumarvelinedi/opt/anaconda3/lib/python3.9/site-packages/sklearn/metrics/_classification.py:1318: UndefinedMetricWarning: Precision and F-score are ill-defined and being set to 0.0 in labels with no predicted samples. Use `zero_division` parameter to control this behavior.\n",
      "  _warn_prf(average, modifier, msg_start, len(result))\n",
      "/Users/kirankumarvelinedi/opt/anaconda3/lib/python3.9/site-packages/sklearn/metrics/_classification.py:1318: UndefinedMetricWarning: Precision and F-score are ill-defined and being set to 0.0 in labels with no predicted samples. Use `zero_division` parameter to control this behavior.\n",
      "  _warn_prf(average, modifier, msg_start, len(result))\n"
     ]
    }
   ],
   "source": [
    "# classification report for test data\n",
    "print(classification_report(y_test,y_test_pred))"
   ]
  },
  {
   "cell_type": "code",
   "execution_count": 23,
   "id": "92fd4ad1",
   "metadata": {},
   "outputs": [
    {
     "name": "stderr",
     "output_type": "stream",
     "text": [
      "/Users/kirankumarvelinedi/opt/anaconda3/lib/python3.9/site-packages/sklearn/utils/deprecation.py:87: FutureWarning: Function plot_roc_curve is deprecated; This will be removed in v0.5.0. Please use scikitplot.metrics.plot_roc instead.\n",
      "  warnings.warn(msg, category=FutureWarning)\n"
     ]
    },
    {
     "data": {
      "image/png": "[encoded data removed]",
      "text/plain": [
       "<Figure size 640x480 with 1 Axes>"
      ]
     },
     "metadata": {},
     "output_type": "display_data"
    }
   ],
   "source": [
    "import sklearn.metrics as metrics\n",
    "import scikitplot as skplt\n",
    "import matplotlib.pyplot as plt\n",
    "y_probas = sgd_model.predict_proba(X_test)\n",
    "skplt.metrics.plot_roc_curve(y_test,y_probas)\n",
    "plt.show()"
   ]
  }
 ],
 "metadata": {
  "kernelspec": {
   "display_name": "Python 3 (ipykernel)",
   "language": "python",
   "name": "python3"
  },
  "language_info": {
   "codemirror_mode": {
    "name": "ipython",
    "version": 3
   },
   "file_extension": ".py",
   "mimetype": "text/x-python",
   "name": "python",
   "nbconvert_exporter": "python",
   "pygments_lexer": "ipython3",
   "version": "3.9.13"
  }
 },
 "nbformat": 4,
 "nbformat_minor": 5
}
