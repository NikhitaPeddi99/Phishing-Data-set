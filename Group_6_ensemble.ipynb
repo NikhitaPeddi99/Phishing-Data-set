{
 "cells": [
  {
   "cell_type": "code",
   "execution_count": 1,
   "id": "4b18adb0",
   "metadata": {},
   "outputs": [],
   "source": [
    "import numpy as np \n",
    "import pandas as pd\n",
    "import matplotlib.pyplot as plt \n",
    "import seaborn as sns\n",
    "from sklearn.preprocessing import StandardScaler, MinMaxScaler\n",
    "import warnings\n",
    "warnings.filterwarnings('ignore')"
   ]
  },
  {
   "cell_type": "code",
   "execution_count": 18,
   "id": "39e95c44",
   "metadata": {},
   "outputs": [],
   "source": [
    "from sklearn.linear_model import SGDClassifier\n",
    "from sklearn.neighbors import KNeighborsClassifier\n",
    "from sklearn.ensemble import RandomForestClassifier\n",
    "from sklearn.svm import LinearSVC, SVC\n",
    "from sklearn.ensemble import VotingClassifier\n",
    "from sklearn.datasets import make_classification\n",
    "from sklearn.model_selection import train_test_split\n",
    "from sklearn.metrics import accuracy_score\n",
    "from sklearn.preprocessing import StandardScaler\n",
    "from sklearn.metrics import accuracy_score, confusion_matrix, classification_report\n",
    "from sklearn.neural_network import MLPClassifier\n",
    "from skelm import ELMClassifier"
   ]
  },
  {
   "cell_type": "code",
   "execution_count": 3,
   "id": "cd9b54d2",
   "metadata": {},
   "outputs": [
    {
     "data": {
      "text/html": [
       "<div>\n",
       "<style scoped>\n",
       "    .dataframe tbody tr th:only-of-type {\n",
       "        vertical-align: middle;\n",
       "    }\n",
       "\n",
       "    .dataframe tbody tr th {\n",
       "        vertical-align: top;\n",
       "    }\n",
       "\n",
       "    .dataframe thead th {\n",
       "        text-align: right;\n",
       "    }\n",
       "</style>\n",
       "<table border=\"1\" class=\"dataframe\">\n",
       "  <thead>\n",
       "    <tr style=\"text-align: right;\">\n",
       "      <th></th>\n",
       "      <th>Unnamed: 0</th>\n",
       "      <th>SFH</th>\n",
       "      <th>popUpWidnow</th>\n",
       "      <th>SSLfinal_State</th>\n",
       "      <th>Request_URL</th>\n",
       "      <th>URL_of_Anchor</th>\n",
       "      <th>web_traffic</th>\n",
       "      <th>URL_Length</th>\n",
       "      <th>age_of_domain</th>\n",
       "      <th>having_IP_Address</th>\n",
       "      <th>Result</th>\n",
       "    </tr>\n",
       "  </thead>\n",
       "  <tbody>\n",
       "    <tr>\n",
       "      <th>0</th>\n",
       "      <td>0</td>\n",
       "      <td>1</td>\n",
       "      <td>-1</td>\n",
       "      <td>1</td>\n",
       "      <td>-1</td>\n",
       "      <td>-1</td>\n",
       "      <td>1</td>\n",
       "      <td>1</td>\n",
       "      <td>1</td>\n",
       "      <td>0</td>\n",
       "      <td>0</td>\n",
       "    </tr>\n",
       "    <tr>\n",
       "      <th>1</th>\n",
       "      <td>1</td>\n",
       "      <td>-1</td>\n",
       "      <td>-1</td>\n",
       "      <td>-1</td>\n",
       "      <td>-1</td>\n",
       "      <td>-1</td>\n",
       "      <td>0</td>\n",
       "      <td>1</td>\n",
       "      <td>1</td>\n",
       "      <td>1</td>\n",
       "      <td>1</td>\n",
       "    </tr>\n",
       "    <tr>\n",
       "      <th>2</th>\n",
       "      <td>2</td>\n",
       "      <td>1</td>\n",
       "      <td>-1</td>\n",
       "      <td>0</td>\n",
       "      <td>0</td>\n",
       "      <td>-1</td>\n",
       "      <td>0</td>\n",
       "      <td>-1</td>\n",
       "      <td>1</td>\n",
       "      <td>0</td>\n",
       "      <td>1</td>\n",
       "    </tr>\n",
       "    <tr>\n",
       "      <th>3</th>\n",
       "      <td>3</td>\n",
       "      <td>1</td>\n",
       "      <td>0</td>\n",
       "      <td>1</td>\n",
       "      <td>-1</td>\n",
       "      <td>-1</td>\n",
       "      <td>0</td>\n",
       "      <td>1</td>\n",
       "      <td>1</td>\n",
       "      <td>0</td>\n",
       "      <td>0</td>\n",
       "    </tr>\n",
       "    <tr>\n",
       "      <th>4</th>\n",
       "      <td>4</td>\n",
       "      <td>-1</td>\n",
       "      <td>-1</td>\n",
       "      <td>1</td>\n",
       "      <td>-1</td>\n",
       "      <td>0</td>\n",
       "      <td>0</td>\n",
       "      <td>-1</td>\n",
       "      <td>1</td>\n",
       "      <td>0</td>\n",
       "      <td>1</td>\n",
       "    </tr>\n",
       "  </tbody>\n",
       "</table>\n",
       "</div>"
      ],
      "text/plain": [
       "   Unnamed: 0  SFH  popUpWidnow  SSLfinal_State  Request_URL  URL_of_Anchor  \\\n",
       "0           0    1           -1               1           -1             -1   \n",
       "1           1   -1           -1              -1           -1             -1   \n",
       "2           2    1           -1               0            0             -1   \n",
       "3           3    1            0               1           -1             -1   \n",
       "4           4   -1           -1               1           -1              0   \n",
       "\n",
       "   web_traffic  URL_Length  age_of_domain  having_IP_Address  Result  \n",
       "0            1           1              1                  0       0  \n",
       "1            0           1              1                  1       1  \n",
       "2            0          -1              1                  0       1  \n",
       "3            0           1              1                  0       0  \n",
       "4            0          -1              1                  0       1  "
      ]
     },
     "execution_count": 3,
     "metadata": {},
     "output_type": "execute_result"
    }
   ],
   "source": [
    "df=pd.read_csv('Group_6_data_cleaned.csv')\n",
    "df.head()"
   ]
  },
  {
   "cell_type": "code",
   "execution_count": 4,
   "id": "4405a9dd",
   "metadata": {},
   "outputs": [],
   "source": [
    "X = df.drop([\"Result\"], axis = 1)\n",
    "\n",
    "y = df[\"Result\"]\n",
    "\n",
    "# Oversampling and transform the dataset\n",
    "import imblearn\n",
    "from imblearn.over_sampling import SMOTE\n",
    "oversample = SMOTE()\n",
    "X,y= oversample.fit_resample(X, y)\n",
    "\n"
   ]
  },
  {
   "cell_type": "code",
   "execution_count": 5,
   "id": "221278a1",
   "metadata": {},
   "outputs": [],
   "source": [
    "# Split the dataset into training and testing sets\n",
    "X_train, X_test, y_train, y_test = train_test_split(X, y, test_size=0.2, random_state=42)"
   ]
  },
  {
   "cell_type": "code",
   "execution_count": 6,
   "id": "8fe1ccd6",
   "metadata": {},
   "outputs": [],
   "source": [
    "# Oversampling and transform the dataset\n",
    "import imblearn\n",
    "from imblearn.over_sampling import SMOTE\n",
    "oversample = SMOTE()\n",
    "X_train,y_train= oversample.fit_resample(X_train, y_train)"
   ]
  },
  {
   "cell_type": "code",
   "execution_count": 7,
   "id": "8656ccda",
   "metadata": {},
   "outputs": [],
   "source": [
    "# Define the four classifiers with best parameters\n",
    "clf1 = SGDClassifier(penalty='l2',n_jobs=1,loss='log',alpha=0.1)\n",
    "clf2 = KNeighborsClassifier(n_neighbors= 6, p= 1, weights= 'distance')\n",
    "clf3 = RandomForestClassifier(n_estimators = 20, \n",
    "                               max_features = \"sqrt\", \n",
    "                               max_depth = 90,\n",
    "                               oob_score = True)\n",
    "clf4 = SVC(kernel=\"linear\", C = 1, gamma =1)\n",
    "clf5 = MLPClassifier(activation='logistic', alpha=0.01, hidden_layer_sizes=(200,),\n",
    "              learning_rate='adaptive')\n",
    "clf6 = ELMClassifier(alpha=0.001, n_neurons=1000)"
   ]
  },
  {
   "cell_type": "code",
   "execution_count": 9,
   "id": "6333dddb",
   "metadata": {},
   "outputs": [],
   "source": [
    "# Create an ensemble model using voting\n",
    "ensemble_model = VotingClassifier(estimators=[('sgd', clf1), ('knn', clf2), ('rf', clf3),('svc', clf4),('MLP', clf5),('ELM',clf6)], voting='hard')"
   ]
  },
  {
   "cell_type": "code",
   "execution_count": 10,
   "id": "0d75d42f",
   "metadata": {},
   "outputs": [
    {
     "data": {
      "text/plain": [
       "VotingClassifier(estimators=[('sgd',\n",
       "                              SGDClassifier(alpha=0.1, loss='log', n_jobs=1)),\n",
       "                             ('knn',\n",
       "                              KNeighborsClassifier(n_neighbors=6, p=1,\n",
       "                                                   weights='distance')),\n",
       "                             ('rf',\n",
       "                              RandomForestClassifier(max_depth=90,\n",
       "                                                     max_features='sqrt',\n",
       "                                                     n_estimators=20,\n",
       "                                                     oob_score=True)),\n",
       "                             ('svc', SVC(C=1, gamma=1, kernel='linear')),\n",
       "                             ('MLP',\n",
       "                              MLPClassifier(activation='logistic', alpha=0.01,\n",
       "                                            hidden_layer_sizes=(200,),\n",
       "                                            learning_rate='adaptive')),\n",
       "                             ('ELM',\n",
       "                              ELMClassifier(alpha=0.001, n_neurons=1000))])"
      ]
     },
     "execution_count": 10,
     "metadata": {},
     "output_type": "execute_result"
    }
   ],
   "source": [
    "# Train the ensemble model on the training data\n",
    "ensemble_model.fit(X_train, y_train)"
   ]
  },
  {
   "cell_type": "code",
   "execution_count": 11,
   "id": "d6b22684",
   "metadata": {},
   "outputs": [],
   "source": [
    "y_pred = ensemble_model.predict(X_test)"
   ]
  },
  {
   "cell_type": "code",
   "execution_count": 12,
   "id": "1cabd67f",
   "metadata": {},
   "outputs": [
    {
     "name": "stdout",
     "output_type": "stream",
     "text": [
      "Accuracy of athe ensemble model: 84.60%\n"
     ]
    }
   ],
   "source": [
    "accuracy = accuracy_score(y_test, y_pred)\n",
    "print('Accuracy of athe ensemble model: {:.2f}%'.format(accuracy*100))"
   ]
  },
  {
   "cell_type": "code",
   "execution_count": 15,
   "id": "7e759717",
   "metadata": {},
   "outputs": [
    {
     "name": "stdout",
     "output_type": "stream",
     "text": [
      "[[118  16   4]\n",
      " [  2 124  15]\n",
      " [ 15  13 115]]\n"
     ]
    }
   ],
   "source": [
    "cm= confusion_matrix(y_test, y_pred)\n",
    "print(cm)"
   ]
  },
  {
   "cell_type": "code",
   "execution_count": 16,
   "id": "2ce9e635",
   "metadata": {},
   "outputs": [
    {
     "data": {
      "image/png": "[encoded data removed]",
      "text/plain": [
       "<Figure size 576x432 with 2 Axes>"
      ]
     },
     "metadata": {
      "needs_background": "light"
     },
     "output_type": "display_data"
    }
   ],
   "source": [
    "plt.figure(figsize = (8,6))\n",
    "\n",
    "sns.heatmap(cm, \n",
    "            annot=True, \n",
    "            cmap=\"Spectral\")\n",
    "plt.xlabel('Predicted', fontsize=15)\n",
    "plt.ylabel('Actual/Observed', fontsize=15);"
   ]
  },
  {
   "cell_type": "code",
   "execution_count": 19,
   "id": "a910aa91",
   "metadata": {},
   "outputs": [
    {
     "name": "stdout",
     "output_type": "stream",
     "text": [
      "              precision    recall  f1-score   support\n",
      "\n",
      "          -1       0.87      0.86      0.86       138\n",
      "           0       0.81      0.88      0.84       141\n",
      "           1       0.86      0.80      0.83       143\n",
      "\n",
      "    accuracy                           0.85       422\n",
      "   macro avg       0.85      0.85      0.85       422\n",
      "weighted avg       0.85      0.85      0.85       422\n",
      "\n"
     ]
    }
   ],
   "source": [
    "print(classification_report(y_test, y_pred))"
   ]
  },
  {
   "cell_type": "code",
   "execution_count": null,
   "id": "27d0ac8f",
   "metadata": {},
   "outputs": [],
   "source": []
  }
 ],
 "metadata": {
  "kernelspec": {
   "display_name": "Python 3 (ipykernel)",
   "language": "python",
   "name": "python3"
  },
  "language_info": {
   "codemirror_mode": {
    "name": "ipython",
    "version": 3
   },
   "file_extension": ".py",
   "mimetype": "text/x-python",
   "name": "python",
   "nbconvert_exporter": "python",
   "pygments_lexer": "ipython3",
   "version": "3.9.12"
  }
 },
 "nbformat": 4,
 "nbformat_minor": 5
}
