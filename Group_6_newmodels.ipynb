{
 "cells": [
  {
   "cell_type": "code",
   "execution_count": 58,
   "id": "d458d058",
   "metadata": {},
   "outputs": [],
   "source": [
    "import numpy as np\n",
    "import pandas as pd\n",
    "import matplotlib.pyplot as plt\n",
    "import seaborn as sns\n",
    "from sklearn.model_selection import train_test_split, cross_val_score, KFold, GridSearchCV, RandomizedSearchCV\n",
    "from sklearn.svm import SVC\n",
    "from mlxtend.plotting import plot_decision_regions\n",
    "from scipy.stats import uniform, randint\n",
    "from sklearn.metrics import confusion_matrix, classification_report, accuracy_score\n",
    "from sklearn.metrics import mean_absolute_error, mean_squared_error, r2_score, make_scorer, f1_score\n",
    "from sklearn.preprocessing import MinMaxScaler\n",
    "from imblearn.over_sampling import RandomOverSampler\n",
    "from imblearn.under_sampling import RandomUnderSampler\n",
    "from sklearn.preprocessing import StandardScaler\n",
    "from sklearn.neural_network import MLPClassifier\n",
    "import warnings\n",
    "warnings.filterwarnings('ignore')"
   ]
  },
  {
   "cell_type": "code",
   "execution_count": 59,
   "id": "2c87afdd",
   "metadata": {},
   "outputs": [
    {
     "data": {
      "text/html": [
       "<div>\n",
       "<style scoped>\n",
       "    .dataframe tbody tr th:only-of-type {\n",
       "        vertical-align: middle;\n",
       "    }\n",
       "\n",
       "    .dataframe tbody tr th {\n",
       "        vertical-align: top;\n",
       "    }\n",
       "\n",
       "    .dataframe thead th {\n",
       "        text-align: right;\n",
       "    }\n",
       "</style>\n",
       "<table border=\"1\" class=\"dataframe\">\n",
       "  <thead>\n",
       "    <tr style=\"text-align: right;\">\n",
       "      <th></th>\n",
       "      <th>Unnamed: 0</th>\n",
       "      <th>SFH</th>\n",
       "      <th>popUpWidnow</th>\n",
       "      <th>SSLfinal_State</th>\n",
       "      <th>Request_URL</th>\n",
       "      <th>URL_of_Anchor</th>\n",
       "      <th>web_traffic</th>\n",
       "      <th>URL_Length</th>\n",
       "      <th>age_of_domain</th>\n",
       "      <th>having_IP_Address</th>\n",
       "      <th>Result</th>\n",
       "    </tr>\n",
       "  </thead>\n",
       "  <tbody>\n",
       "    <tr>\n",
       "      <th>0</th>\n",
       "      <td>0</td>\n",
       "      <td>1</td>\n",
       "      <td>-1</td>\n",
       "      <td>1</td>\n",
       "      <td>-1</td>\n",
       "      <td>-1</td>\n",
       "      <td>1</td>\n",
       "      <td>1</td>\n",
       "      <td>1</td>\n",
       "      <td>0</td>\n",
       "      <td>0</td>\n",
       "    </tr>\n",
       "    <tr>\n",
       "      <th>1</th>\n",
       "      <td>1</td>\n",
       "      <td>-1</td>\n",
       "      <td>-1</td>\n",
       "      <td>-1</td>\n",
       "      <td>-1</td>\n",
       "      <td>-1</td>\n",
       "      <td>0</td>\n",
       "      <td>1</td>\n",
       "      <td>1</td>\n",
       "      <td>1</td>\n",
       "      <td>1</td>\n",
       "    </tr>\n",
       "    <tr>\n",
       "      <th>2</th>\n",
       "      <td>2</td>\n",
       "      <td>1</td>\n",
       "      <td>-1</td>\n",
       "      <td>0</td>\n",
       "      <td>0</td>\n",
       "      <td>-1</td>\n",
       "      <td>0</td>\n",
       "      <td>-1</td>\n",
       "      <td>1</td>\n",
       "      <td>0</td>\n",
       "      <td>1</td>\n",
       "    </tr>\n",
       "    <tr>\n",
       "      <th>3</th>\n",
       "      <td>3</td>\n",
       "      <td>1</td>\n",
       "      <td>0</td>\n",
       "      <td>1</td>\n",
       "      <td>-1</td>\n",
       "      <td>-1</td>\n",
       "      <td>0</td>\n",
       "      <td>1</td>\n",
       "      <td>1</td>\n",
       "      <td>0</td>\n",
       "      <td>0</td>\n",
       "    </tr>\n",
       "    <tr>\n",
       "      <th>4</th>\n",
       "      <td>4</td>\n",
       "      <td>-1</td>\n",
       "      <td>-1</td>\n",
       "      <td>1</td>\n",
       "      <td>-1</td>\n",
       "      <td>0</td>\n",
       "      <td>0</td>\n",
       "      <td>-1</td>\n",
       "      <td>1</td>\n",
       "      <td>0</td>\n",
       "      <td>1</td>\n",
       "    </tr>\n",
       "  </tbody>\n",
       "</table>\n",
       "</div>"
      ],
      "text/plain": [
       "   Unnamed: 0  SFH  popUpWidnow  SSLfinal_State  Request_URL  URL_of_Anchor  \\\n",
       "0           0    1           -1               1           -1             -1   \n",
       "1           1   -1           -1              -1           -1             -1   \n",
       "2           2    1           -1               0            0             -1   \n",
       "3           3    1            0               1           -1             -1   \n",
       "4           4   -1           -1               1           -1              0   \n",
       "\n",
       "   web_traffic  URL_Length  age_of_domain  having_IP_Address  Result  \n",
       "0            1           1              1                  0       0  \n",
       "1            0           1              1                  1       1  \n",
       "2            0          -1              1                  0       1  \n",
       "3            0           1              1                  0       0  \n",
       "4            0          -1              1                  0       1  "
      ]
     },
     "execution_count": 59,
     "metadata": {},
     "output_type": "execute_result"
    }
   ],
   "source": [
    "# Now we import the dataset\n",
    "\n",
    "data=pd.read_csv('Group_6_data_cleaned.csv')\n",
    "data.head()"
   ]
  },
  {
   "cell_type": "markdown",
   "id": "c0780239",
   "metadata": {},
   "source": [
    "## SVM with linear kernel"
   ]
  },
  {
   "cell_type": "code",
   "execution_count": 60,
   "id": "f4460da1",
   "metadata": {},
   "outputs": [
    {
     "name": "stdout",
     "output_type": "stream",
     "text": [
      "(1684, 10) (1431, 10) (253, 10) (422, 10)\n"
     ]
    }
   ],
   "source": [
    "X = data.drop([\"Result\"], axis = 1)\n",
    "\n",
    "y = data[\"Result\"]\n",
    "\n",
    "# Oversampling and transform the dataset\n",
    "import imblearn\n",
    "from imblearn.over_sampling import SMOTE\n",
    "oversample = SMOTE()\n",
    "X,y= oversample.fit_resample(X, y)\n",
    "\n",
    "\n",
    "#split dataset\n",
    "X_train_total, X_test, y_train_total, y_test = train_test_split(X, y, test_size=0.2, random_state=42)\n",
    "\n",
    "#split dataset\n",
    "X_train, X_valid, y_train, y_valid = train_test_split(X_train_total, y_train_total, test_size=0.15, random_state=42)\n",
    "\n",
    "print(X_train_total.shape,X_train.shape,X_valid.shape,X_test.shape)"
   ]
  },
  {
   "cell_type": "code",
   "execution_count": 61,
   "id": "7defa124",
   "metadata": {},
   "outputs": [
    {
     "data": {
      "text/plain": [
       " 0    479\n",
       "-1    476\n",
       " 1    476\n",
       "Name: Result, dtype: int64"
      ]
     },
     "execution_count": 61,
     "metadata": {},
     "output_type": "execute_result"
    }
   ],
   "source": [
    "y_train.value_counts()"
   ]
  },
  {
   "cell_type": "code",
   "execution_count": 62,
   "id": "b2a07740",
   "metadata": {},
   "outputs": [
    {
     "data": {
      "text/plain": [
       "SVC(kernel='linear')"
      ]
     },
     "execution_count": 62,
     "metadata": {},
     "output_type": "execute_result"
    }
   ],
   "source": [
    "model = SVC(kernel=\"linear\")\n",
    "model.fit(X_train, y`_train)"
   ]
  },
  {
   "cell_type": "code",
   "execution_count": 63,
   "id": "770852a8",
   "metadata": {},
   "outputs": [
    {
     "data": {
      "text/plain": [
       "0.8078266946191475"
      ]
     },
     "execution_count": 63,
     "metadata": {},
     "output_type": "execute_result"
    }
   ],
   "source": [
    "y_pred_train = model.predict(X_train)\n",
    "accuracy_score(y_train, y_pred_train)"
   ]
  },
  {
   "cell_type": "code",
   "execution_count": 64,
   "id": "9b670d2d",
   "metadata": {},
   "outputs": [
    {
     "data": {
      "text/plain": [
       "0.7549407114624506"
      ]
     },
     "execution_count": 64,
     "metadata": {},
     "output_type": "execute_result"
    }
   ],
   "source": [
    "y_pred_valid = model.predict(X_valid)\n",
    "accuracy_score(y_valid, y_pred_valid)"
   ]
  },
  {
   "cell_type": "code",
   "execution_count": 65,
   "id": "a91897ed",
   "metadata": {},
   "outputs": [
    {
     "data": {
      "text/plain": [
       "0.7630331753554502"
      ]
     },
     "execution_count": 65,
     "metadata": {},
     "output_type": "execute_result"
    }
   ],
   "source": [
    "y_pred_test = model.predict(X_test)\n",
    "accuracy_score(y_test, y_pred_test)"
   ]
  },
  {
   "cell_type": "code",
   "execution_count": 67,
   "id": "bf3daf30",
   "metadata": {},
   "outputs": [
    {
     "name": "stdout",
     "output_type": "stream",
     "text": [
      "Fitting 5 folds for each of 9 candidates, totalling 45 fits\n",
      "[CV 1/5] END .....C=0.1, gamma=1, kernel=linear;, score=0.725 total time=   4.0s\n",
      "[CV 2/5] END .....C=0.1, gamma=1, kernel=linear;, score=0.804 total time=   3.3s\n",
      "[CV 3/5] END .....C=0.1, gamma=1, kernel=linear;, score=0.706 total time=   3.1s\n",
      "[CV 4/5] END .....C=0.1, gamma=1, kernel=linear;, score=0.720 total time=   2.3s\n",
      "[CV 5/5] END .....C=0.1, gamma=1, kernel=linear;, score=0.680 total time=   2.1s\n",
      "[CV 1/5] END ...C=0.1, gamma=0.1, kernel=linear;, score=0.725 total time=   5.0s\n",
      "[CV 2/5] END ...C=0.1, gamma=0.1, kernel=linear;, score=0.804 total time=   3.5s\n",
      "[CV 3/5] END ...C=0.1, gamma=0.1, kernel=linear;, score=0.706 total time=   3.2s\n",
      "[CV 4/5] END ...C=0.1, gamma=0.1, kernel=linear;, score=0.720 total time=   2.2s\n",
      "[CV 5/5] END ...C=0.1, gamma=0.1, kernel=linear;, score=0.680 total time=   2.0s\n",
      "[CV 1/5] END ..C=0.1, gamma=0.01, kernel=linear;, score=0.725 total time=   4.2s\n",
      "[CV 2/5] END ..C=0.1, gamma=0.01, kernel=linear;, score=0.804 total time=   3.4s\n",
      "[CV 3/5] END ..C=0.1, gamma=0.01, kernel=linear;, score=0.706 total time=   3.1s\n",
      "[CV 4/5] END ..C=0.1, gamma=0.01, kernel=linear;, score=0.720 total time=   1.6s\n",
      "[CV 5/5] END ..C=0.1, gamma=0.01, kernel=linear;, score=0.680 total time=   1.4s\n",
      "[CV 1/5] END .......C=1, gamma=1, kernel=linear;, score=0.784 total time=  29.9s\n",
      "[CV 2/5] END .......C=1, gamma=1, kernel=linear;, score=0.765 total time=  34.8s\n",
      "[CV 3/5] END .......C=1, gamma=1, kernel=linear;, score=0.765 total time=  20.8s\n",
      "[CV 4/5] END .......C=1, gamma=1, kernel=linear;, score=0.740 total time=  15.5s\n",
      "[CV 5/5] END .......C=1, gamma=1, kernel=linear;, score=0.620 total time=  12.8s\n",
      "[CV 1/5] END .....C=1, gamma=0.1, kernel=linear;, score=0.784 total time=  30.9s\n",
      "[CV 2/5] END .....C=1, gamma=0.1, kernel=linear;, score=0.765 total time=  34.6s\n",
      "[CV 3/5] END .....C=1, gamma=0.1, kernel=linear;, score=0.765 total time=  22.5s\n",
      "[CV 4/5] END .....C=1, gamma=0.1, kernel=linear;, score=0.740 total time=  16.9s\n",
      "[CV 5/5] END .....C=1, gamma=0.1, kernel=linear;, score=0.620 total time=  12.9s\n",
      "[CV 1/5] END ....C=1, gamma=0.01, kernel=linear;, score=0.784 total time=  31.4s\n",
      "[CV 2/5] END ....C=1, gamma=0.01, kernel=linear;, score=0.765 total time=  34.2s\n",
      "[CV 3/5] END ....C=1, gamma=0.01, kernel=linear;, score=0.765 total time=  19.4s\n",
      "[CV 4/5] END ....C=1, gamma=0.01, kernel=linear;, score=0.740 total time=  14.3s\n",
      "[CV 5/5] END ....C=1, gamma=0.01, kernel=linear;, score=0.620 total time=  11.7s\n",
      "[CV 1/5] END ......C=10, gamma=1, kernel=linear;, score=0.745 total time= 1.2min\n",
      "[CV 2/5] END ......C=10, gamma=1, kernel=linear;, score=0.745 total time= 1.8min\n",
      "[CV 3/5] END ......C=10, gamma=1, kernel=linear;, score=0.784 total time=  48.2s\n",
      "[CV 4/5] END ......C=10, gamma=1, kernel=linear;, score=0.760 total time= 1.6min\n",
      "[CV 5/5] END ......C=10, gamma=1, kernel=linear;, score=0.620 total time= 1.4min\n",
      "[CV 1/5] END ....C=10, gamma=0.1, kernel=linear;, score=0.745 total time=  36.4s\n",
      "[CV 2/5] END ....C=10, gamma=0.1, kernel=linear;, score=0.745 total time= 1.8min\n",
      "[CV 3/5] END ....C=10, gamma=0.1, kernel=linear;, score=0.784 total time=  51.0s\n",
      "[CV 4/5] END ....C=10, gamma=0.1, kernel=linear;, score=0.760 total time= 1.7min\n",
      "[CV 5/5] END ....C=10, gamma=0.1, kernel=linear;, score=0.620 total time= 1.5min\n",
      "[CV 1/5] END ...C=10, gamma=0.01, kernel=linear;, score=0.745 total time=  37.0s\n",
      "[CV 2/5] END ...C=10, gamma=0.01, kernel=linear;, score=0.745 total time= 1.8min\n",
      "[CV 3/5] END ...C=10, gamma=0.01, kernel=linear;, score=0.784 total time=  48.5s\n",
      "[CV 4/5] END ...C=10, gamma=0.01, kernel=linear;, score=0.760 total time= 1.6min\n",
      "[CV 5/5] END ...C=10, gamma=0.01, kernel=linear;, score=0.620 total time= 1.4min\n"
     ]
    },
    {
     "data": {
      "text/plain": [
       "GridSearchCV(estimator=SVC(kernel='linear'),\n",
       "             param_grid={'C': [0.1, 1, 10], 'gamma': [1, 0.1, 0.01],\n",
       "                         'kernel': ['linear']},\n",
       "             verbose=3)"
      ]
     },
     "execution_count": 67,
     "metadata": {},
     "output_type": "execute_result"
    }
   ],
   "source": [
    "from sklearn.model_selection import GridSearchCV\n",
    "\n",
    "svc = SVC(kernel='linear')\n",
    "param_grid = {'C':[0.1,1,10],\n",
    "             'gamma':[1,0.1,0.01],\n",
    "             'kernel':['linear']}\n",
    "grid = GridSearchCV(svc,param_grid,refit = True, verbose = 3)\n",
    "grid.fit(X_valid,y_valid)"
   ]
  },
  {
   "cell_type": "code",
   "execution_count": 68,
   "id": "df980e80",
   "metadata": {},
   "outputs": [
    {
     "name": "stdout",
     "output_type": "stream",
     "text": [
      "Best hyperparameters:  {'C': 1, 'gamma': 1, 'kernel': 'linear'}\n"
     ]
    }
   ],
   "source": [
    "# Print the best hyperparameters\n",
    "print(\"Best hyperparameters: \", grid.best_params_)"
   ]
  },
  {
   "cell_type": "code",
   "execution_count": 69,
   "id": "6c21efe7",
   "metadata": {},
   "outputs": [
    {
     "data": {
      "text/plain": [
       "SVC(C=1, gamma=1, kernel='linear')"
      ]
     },
     "execution_count": 69,
     "metadata": {},
     "output_type": "execute_result"
    }
   ],
   "source": [
    "# Tuning the model with hyperparameters which we got from Grid search \n",
    "model_1 = SVC(kernel=\"linear\", C = 1, gamma =1)\n",
    "model_1.fit(X_train, y_train)"
   ]
  },
  {
   "cell_type": "code",
   "execution_count": 70,
   "id": "e230bdcd",
   "metadata": {},
   "outputs": [
    {
     "name": "stdout",
     "output_type": "stream",
     "text": [
      "Train accuracy for linear SVM: 0.8078266946191475\n"
     ]
    }
   ],
   "source": [
    "y_pred_train = model_1.predict(X_train)\n",
    "print(\"Train accuracy for linear SVM:\", accuracy_score(y_train, y_pred_train))"
   ]
  },
  {
   "cell_type": "code",
   "execution_count": 71,
   "id": "f8f5348b",
   "metadata": {},
   "outputs": [
    {
     "name": "stdout",
     "output_type": "stream",
     "text": [
      "Validation accuracy for linear SVM: 0.7549407114624506\n"
     ]
    }
   ],
   "source": [
    "y_pred_valid = model_1.predict(X_valid)\n",
    "print(\"Validation accuracy for linear SVM:\", accuracy_score(y_valid, y_pred_valid))"
   ]
  },
  {
   "cell_type": "code",
   "execution_count": 72,
   "id": "7f61c39d",
   "metadata": {},
   "outputs": [
    {
     "name": "stdout",
     "output_type": "stream",
     "text": [
      "Test accuracy for linear SVM: 0.7630331753554502\n"
     ]
    }
   ],
   "source": [
    "y_pred_1 = model_1.predict(X_test)\n",
    "print(\"Test accuracy for linear SVM:\", accuracy_score(y_test, y_pred_1))"
   ]
  },
  {
   "cell_type": "code",
   "execution_count": 73,
   "id": "cea58aee",
   "metadata": {},
   "outputs": [
    {
     "data": {
      "text/plain": [
       "array([[117,  18,   3],\n",
       "       [  3, 107,  31],\n",
       "       [ 15,  30,  98]], dtype=int64)"
      ]
     },
     "execution_count": 73,
     "metadata": {},
     "output_type": "execute_result"
    }
   ],
   "source": [
    "cm_1=confusion_matrix(y_test, y_pred_1)\n",
    "cm_1"
   ]
  },
  {
   "cell_type": "code",
   "execution_count": 74,
   "id": "b6e56d56",
   "metadata": {},
   "outputs": [
    {
     "data": {
      "image/png": "[encoded data removed]",
      "text/plain": [
       "<Figure size 576x432 with 2 Axes>"
      ]
     },
     "metadata": {
      "needs_background": "light"
     },
     "output_type": "display_data"
    }
   ],
   "source": [
    "plt.figure(figsize = (8,6))\n",
    "\n",
    "sns.heatmap(cm_1, \n",
    "            annot=True, \n",
    "            cmap=\"Spectral\")\n",
    "plt.xlabel('Predicted', fontsize=15)\n",
    "plt.ylabel('Actual/Observed', fontsize=15);"
   ]
  },
  {
   "cell_type": "code",
   "execution_count": 101,
   "id": "59523f4b",
   "metadata": {},
   "outputs": [
    {
     "name": "stdout",
     "output_type": "stream",
     "text": [
      "Classification Report of SVM(liner kernal): \n",
      "               precision    recall  f1-score   support\n",
      "\n",
      "          -1       0.87      0.85      0.86       138\n",
      "           0       0.69      0.76      0.72       141\n",
      "           1       0.74      0.69      0.71       143\n",
      "\n",
      "    accuracy                           0.76       422\n",
      "   macro avg       0.77      0.76      0.76       422\n",
      "weighted avg       0.77      0.76      0.76       422\n",
      "\n"
     ]
    }
   ],
   "source": [
    "print(\"Classification Report of SVM(liner kernal): \\n\",classification_report(y_test, y_pred_1))"
   ]
  },
  {
   "cell_type": "code",
   "execution_count": 76,
   "id": "ea266e5a",
   "metadata": {},
   "outputs": [
    {
     "data": {
      "text/plain": [
       "array([0.77083333, 0.81818182, 0.7972028 , 0.7972028 , 0.78321678,\n",
       "       0.79020979, 0.79020979, 0.83216783, 0.8041958 , 0.79020979])"
      ]
     },
     "execution_count": 76,
     "metadata": {},
     "output_type": "execute_result"
    }
   ],
   "source": [
    "cv_scores_1= cross_val_score(model_1, \n",
    "                            X_train, \n",
    "                            y_train, \n",
    "                            cv=KFold(n_splits=10, shuffle=True),\n",
    "                            scoring='accuracy')\n",
    "\n",
    "cv_scores_1"
   ]
  },
  {
   "cell_type": "code",
   "execution_count": 77,
   "id": "f5385555",
   "metadata": {},
   "outputs": [
    {
     "name": "stdout",
     "output_type": "stream",
     "text": [
      "Average Accuracy 0.7973630536130536\n",
      "Standard deviation of Accuracy 0.016580054189811795\n"
     ]
    },
    {
     "data": {
      "image/png": "[encoded data removed]",
      "text/plain": [
       "<Figure size 432x288 with 1 Axes>"
      ]
     },
     "metadata": {
      "needs_background": "light"
     },
     "output_type": "display_data"
    }
   ],
   "source": [
    "plt.plot(range(1, 11), cv_scores_1, marker='o')\n",
    "plt.ylim(0, 1)\n",
    "plt.ylabel('Accuracy score', fontsize=15)\n",
    "plt.xlabel('Fold', fontsize=15)\n",
    "plt.xticks(range(1,11))\n",
    "print(\"Average Accuracy\",cv_scores_1.mean())\n",
    "print(\"Standard deviation of Accuracy\",cv_scores_1.std())"
   ]
  },
  {
   "cell_type": "markdown",
   "id": "b7ecbac3",
   "metadata": {},
   "source": [
    "## Extreme Learning Machines"
   ]
  },
  {
   "cell_type": "code",
   "execution_count": 78,
   "id": "229c9a9e",
   "metadata": {},
   "outputs": [
    {
     "name": "stdout",
     "output_type": "stream",
     "text": [
      "{'n_neurons': 1000, 'ufunc': 'tanh', 'alpha': 0.001}\n",
      "0.820979020979021\n"
     ]
    }
   ],
   "source": [
    "from skelm import ELMClassifier\n",
    "from itertools import product\n",
    "\n",
    "class ELMGridSearch:\n",
    "    def __init__(self, param_grid,cv=5):\n",
    "        self.param_grid = param_grid\n",
    "        self.cv = cv\n",
    "        \n",
    "    def fit(self, X_train, y_train):\n",
    "        best_score = 0\n",
    "        best_params = None\n",
    "        \n",
    "        n_samples = X_train.shape[0]\n",
    "        fold_size = n_samples // self.cv\n",
    "        \n",
    "        for params in product(*self.param_grid.values()):\n",
    "            params = dict(zip(self.param_grid.keys(), params))\n",
    "            clf = ELMClassifier(**params)\n",
    "            clf.fit(X_train, y_train)\n",
    "            # Perform manual cross-validation\n",
    "            scores = []\n",
    "            for fold in range(self.cv):\n",
    "                start = fold * fold_size\n",
    "                end = start + fold_size\n",
    "                \n",
    "                # Split data into training and validation folds\n",
    "                X_val = X_train[start:end]\n",
    "                y_val = y_train[start:end]\n",
    "                X_tr = np.concatenate((X_train[:start], X_train[end:]))\n",
    "                y_tr = np.concatenate((y_train[:start], y_train[end:]))\n",
    "                \n",
    "                # Train the model on the training fold\n",
    "                clf.fit(X_tr, y_tr)\n",
    "                \n",
    "                # Evaluate the model on the validation fold\n",
    "                score = clf.score(X_val, y_val)\n",
    "                scores.append(score)\n",
    "                \n",
    "            # Compute the average performance across all folds\n",
    "            score = np.mean(scores)\n",
    "            \n",
    "            \n",
    "            if score > best_score:\n",
    "                best_score = score\n",
    "                best_params = params\n",
    "        \n",
    "        self.best_params_ = best_params\n",
    "        self.best_score_ = best_score\n",
    "        self.best_estimator_ = ELMClassifier(**best_params)\n",
    "        self.best_estimator_.fit(X_train, y_train)\n",
    "        \n",
    "        return self\n",
    "        \n",
    "    def predict(self, X_test):\n",
    "        return self.best_estimator_.predict(X_test)\n",
    "param_grid = {\n",
    "    'n_neurons': [100, 200, 300,400,512,1000],\n",
    "    'ufunc': [ 'relu','tanh'],\n",
    "    'alpha': [0.001, 0.01, 0.1]\n",
    "}\n",
    "\n",
    "search = ELMGridSearch(param_grid,cv=5)\n",
    "search.fit(X_train, y_train)\n",
    "\n",
    "print(search.best_params_)\n",
    "print(search.best_score_)"
   ]
  },
  {
   "cell_type": "code",
   "execution_count": 79,
   "id": "45126ddd",
   "metadata": {},
   "outputs": [
    {
     "data": {
      "text/plain": [
       "ELMClassifier(alpha=0.001, n_neurons=1000)"
      ]
     },
     "execution_count": 79,
     "metadata": {},
     "output_type": "execute_result"
    }
   ],
   "source": [
    "model_2 = ELMClassifier(n_neurons = 1000,ufunc = 'tanh',\n",
    "                    alpha = 0.001)\n",
    "model_2.fit(X_train,y_train)"
   ]
  },
  {
   "cell_type": "code",
   "execution_count": 80,
   "id": "b95f5acf",
   "metadata": {},
   "outputs": [],
   "source": [
    "y_pred_2=model_2.predict(X_test)"
   ]
  },
  {
   "cell_type": "code",
   "execution_count": 81,
   "id": "ba619af2",
   "metadata": {},
   "outputs": [
    {
     "data": {
      "text/plain": [
       "0.8151658767772512"
      ]
     },
     "execution_count": 81,
     "metadata": {},
     "output_type": "execute_result"
    }
   ],
   "source": [
    "accuracy_score(y_test,y_pred_2)"
   ]
  },
  {
   "cell_type": "code",
   "execution_count": 82,
   "id": "bcbf6318",
   "metadata": {},
   "outputs": [
    {
     "data": {
      "text/plain": [
       "array([[115,  18,   5],\n",
       "       [  3, 121,  17],\n",
       "       [ 16,  19, 108]], dtype=int64)"
      ]
     },
     "execution_count": 82,
     "metadata": {},
     "output_type": "execute_result"
    }
   ],
   "source": [
    "cm_2=confusion_matrix(y_test, y_pred_2)\n",
    "cm_2"
   ]
  },
  {
   "cell_type": "code",
   "execution_count": 83,
   "id": "85202fc5",
   "metadata": {},
   "outputs": [
    {
     "data": {
      "image/png": "[encoded data removed]",
      "text/plain": [
       "<Figure size 576x432 with 2 Axes>"
      ]
     },
     "metadata": {
      "needs_background": "light"
     },
     "output_type": "display_data"
    }
   ],
   "source": [
    "plt.figure(figsize = (8,6))\n",
    "\n",
    "sns.heatmap(cm_2, \n",
    "            annot=True, \n",
    "            cmap=\"Spectral\")\n",
    "plt.xlabel('Predicted', fontsize=15)\n",
    "plt.ylabel('Actual/Observed', fontsize=15);"
   ]
  },
  {
   "cell_type": "code",
   "execution_count": 99,
   "id": "aee73337",
   "metadata": {},
   "outputs": [
    {
     "name": "stdout",
     "output_type": "stream",
     "text": [
      "Classification Report of ELM: \n",
      "               precision    recall  f1-score   support\n",
      "\n",
      "          -1       0.86      0.83      0.85       138\n",
      "           0       0.77      0.86      0.81       141\n",
      "           1       0.83      0.76      0.79       143\n",
      "\n",
      "    accuracy                           0.82       422\n",
      "   macro avg       0.82      0.82      0.82       422\n",
      "weighted avg       0.82      0.82      0.82       422\n",
      "\n"
     ]
    }
   ],
   "source": [
    "print(\"Classification Report of ELM: \\n\",classification_report(y_test, y_pred_2))"
   ]
  },
  {
   "cell_type": "code",
   "execution_count": 85,
   "id": "29120e73",
   "metadata": {},
   "outputs": [
    {
     "data": {
      "text/plain": [
       "[0.8111888111888111,\n",
       " 0.8111888111888111,\n",
       " 0.8041958041958042,\n",
       " 0.8531468531468531,\n",
       " 0.8111888111888111,\n",
       " 0.8181818181818182,\n",
       " 0.8041958041958042,\n",
       " 0.8741258741258742,\n",
       " 0.8111888111888111,\n",
       " 0.8111888111888111]"
      ]
     },
     "execution_count": 85,
     "metadata": {},
     "output_type": "execute_result"
    }
   ],
   "source": [
    "n_folds = 10\n",
    "fold_size = X_train.shape[0] // n_folds\n",
    "folds = [(i * fold_size, (i + 1) * fold_size) for i in range(n_folds)]\n",
    "\n",
    "scores = []\n",
    "for i in range(n_folds):\n",
    "    \n",
    "    \n",
    "    # Get the training and validation data for this fold\n",
    "    val_start, val_end = folds[i]\n",
    "    X_val = X_train[val_start:val_end]\n",
    "    y_val = y_train[val_start:val_end]\n",
    "    X_trn = np.concatenate((X_train[:val_start], X_train[val_end:]), axis=0)\n",
    "    y_trn = np.concatenate((y_train[:val_start], y_train[val_end:]), axis=0)\n",
    "    \n",
    "    # Train the ELMClassifier\n",
    "    \n",
    "    model_2.fit(X_trn, y_trn)\n",
    "    \n",
    "    # Evaluate the ELMClassifier on the validation data\n",
    "    score = model_2.score(X_val, y_val)\n",
    "    scores.append(score)\n",
    "scores"
   ]
  },
  {
   "cell_type": "code",
   "execution_count": 86,
   "id": "bd0e3bb6",
   "metadata": {},
   "outputs": [
    {
     "name": "stdout",
     "output_type": "stream",
     "text": [
      "Average Accuracy 0.8209790209790209\n",
      "Standard deviation of Accuracy 0.02215801331154528\n"
     ]
    },
    {
     "data": {
      "image/png": "[encoded data removed]",
      "text/plain": [
       "<Figure size 432x288 with 1 Axes>"
      ]
     },
     "metadata": {
      "needs_background": "light"
     },
     "output_type": "display_data"
    }
   ],
   "source": [
    "plt.plot(range(1, 11), scores, marker='o')\n",
    "plt.ylim(0, 1)\n",
    "plt.ylabel('Accuracy score', fontsize=15)\n",
    "plt.xlabel('Fold', fontsize=15)\n",
    "plt.xticks(range(1,11))\n",
    "print(\"Average Accuracy\",np.array(scores).mean())\n",
    "print(\"Standard deviation of Accuracy\",np.array(scores).std())"
   ]
  },
  {
   "cell_type": "markdown",
   "id": "331ac5a8",
   "metadata": {},
   "source": [
    "## Multi Linear Perceptron (Deep Learning)"
   ]
  },
  {
   "cell_type": "code",
   "execution_count": 87,
   "id": "6ad2bb53",
   "metadata": {},
   "outputs": [
    {
     "data": {
      "text/plain": [
       "RandomizedSearchCV(estimator=MLPClassifier(),\n",
       "                   param_distributions={'activation': ['relu', 'logistic'],\n",
       "                                        'alpha': [0.0001, 0.001, 0.01],\n",
       "                                        'hidden_layer_sizes': [(100,), (200,),\n",
       "                                                               (500,),\n",
       "                                                               (1000,)],\n",
       "                                        'learning_rate': ['constant',\n",
       "                                                          'adaptive'],\n",
       "                                        'solver': ['adam', 'sgd']})"
      ]
     },
     "execution_count": 87,
     "metadata": {},
     "output_type": "execute_result"
    }
   ],
   "source": [
    "model_3= MLPClassifier()\n",
    "param_grid = {\n",
    "    'hidden_layer_sizes': [(100,), (200,), (500,), (1000,)],\n",
    "    'activation': ['relu', 'logistic'],\n",
    "    'solver': ['adam', 'sgd'],\n",
    "    'alpha': [0.0001, 0.001, 0.01],\n",
    "    'learning_rate': ['constant', 'adaptive'],\n",
    "}\n",
    "clf = RandomizedSearchCV(model_3, param_grid)\n",
    "clf.fit(X_train,y_train)"
   ]
  },
  {
   "cell_type": "code",
   "execution_count": 88,
   "id": "5ab630c0",
   "metadata": {},
   "outputs": [
    {
     "data": {
      "text/plain": [
       "{'solver': 'adam',\n",
       " 'learning_rate': 'adaptive',\n",
       " 'hidden_layer_sizes': (200,),\n",
       " 'alpha': 0.01,\n",
       " 'activation': 'logistic'}"
      ]
     },
     "execution_count": 88,
     "metadata": {},
     "output_type": "execute_result"
    }
   ],
   "source": [
    "clf.best_params_"
   ]
  },
  {
   "cell_type": "code",
   "execution_count": 89,
   "id": "e70e1ada",
   "metadata": {},
   "outputs": [
    {
     "data": {
      "text/plain": [
       "MLPClassifier(activation='logistic', alpha=0.01, hidden_layer_sizes=200,\n",
       "              learning_rate='adaptive')"
      ]
     },
     "execution_count": 89,
     "metadata": {},
     "output_type": "execute_result"
    }
   ],
   "source": [
    "clf = MLPClassifier(solver = 'adam',learning_rate = 'adaptive',\n",
    "                    hidden_layer_sizes = (200),\n",
    "                    alpha = 0.01,\n",
    "                    activation = 'logistic')\n",
    "clf.fit(X_train,y_train)"
   ]
  },
  {
   "cell_type": "code",
   "execution_count": 90,
   "id": "42b4fdba",
   "metadata": {},
   "outputs": [],
   "source": [
    "y_pred_3=clf.predict(X_test)"
   ]
  },
  {
   "cell_type": "code",
   "execution_count": 91,
   "id": "f4d9a0da",
   "metadata": {},
   "outputs": [
    {
     "data": {
      "text/plain": [
       "0.7298578199052133"
      ]
     },
     "execution_count": 91,
     "metadata": {},
     "output_type": "execute_result"
    }
   ],
   "source": [
    "accuracy_score(y_test,y_pred_3)"
   ]
  },
  {
   "cell_type": "code",
   "execution_count": 92,
   "id": "2ff45279",
   "metadata": {},
   "outputs": [
    {
     "data": {
      "text/plain": [
       "array([[120,   9,   9],\n",
       "       [ 21,  70,  50],\n",
       "       [ 15,  10, 118]], dtype=int64)"
      ]
     },
     "execution_count": 92,
     "metadata": {},
     "output_type": "execute_result"
    }
   ],
   "source": [
    "cm_3=confusion_matrix(y_test, y_pred_3)\n",
    "cm_3"
   ]
  },
  {
   "cell_type": "code",
   "execution_count": 93,
   "id": "4ddfd701",
   "metadata": {},
   "outputs": [
    {
     "data": {
      "image/png": "[encoded data removed]",
      "text/plain": [
       "<Figure size 576x432 with 2 Axes>"
      ]
     },
     "metadata": {
      "needs_background": "light"
     },
     "output_type": "display_data"
    }
   ],
   "source": [
    "plt.figure(figsize = (8,6))\n",
    "\n",
    "sns.heatmap(cm_3, \n",
    "            annot=True, \n",
    "            cmap=\"Spectral\")\n",
    "plt.xlabel('Predicted', fontsize=15)\n",
    "plt.ylabel('Actual/Observed', fontsize=15);"
   ]
  },
  {
   "cell_type": "code",
   "execution_count": 100,
   "id": "e4044af7",
   "metadata": {},
   "outputs": [
    {
     "name": "stdout",
     "output_type": "stream",
     "text": [
      "Classification Report of MLP: \n",
      "               precision    recall  f1-score   support\n",
      "\n",
      "          -1       0.77      0.87      0.82       138\n",
      "           0       0.79      0.50      0.61       141\n",
      "           1       0.67      0.83      0.74       143\n",
      "\n",
      "    accuracy                           0.73       422\n",
      "   macro avg       0.74      0.73      0.72       422\n",
      "weighted avg       0.74      0.73      0.72       422\n",
      "\n"
     ]
    }
   ],
   "source": [
    "print(\"Classification Report of MLP: \\n\",classification_report(y_test, y_pred_3))"
   ]
  },
  {
   "cell_type": "code",
   "execution_count": 95,
   "id": "ba2ee94c",
   "metadata": {},
   "outputs": [
    {
     "data": {
      "text/plain": [
       "array([0.77083333, 0.74825175, 0.71328671, 0.81818182, 0.77622378,\n",
       "       0.86013986, 0.77622378, 0.72727273, 0.7972028 , 0.77622378])"
      ]
     },
     "execution_count": 95,
     "metadata": {},
     "output_type": "execute_result"
    }
   ],
   "source": [
    "cv_scores_3= cross_val_score(clf, \n",
    "                            X_train, \n",
    "                            y_train, \n",
    "                            cv=KFold(n_splits=10, shuffle=True),\n",
    "                            scoring='accuracy')\n",
    "\n",
    "cv_scores_3"
   ]
  },
  {
   "cell_type": "code",
   "execution_count": 96,
   "id": "6f1fbe5c",
   "metadata": {},
   "outputs": [
    {
     "name": "stdout",
     "output_type": "stream",
     "text": [
      "Average Accuracy 0.7763840326340328\n",
      "Standard deviation of Accuracy 0.040510516206050506\n"
     ]
    },
    {
     "data": {
      "image/png": "[encoded data removed]",
      "text/plain": [
       "<Figure size 432x288 with 1 Axes>"
      ]
     },
     "metadata": {
      "needs_background": "light"
     },
     "output_type": "display_data"
    }
   ],
   "source": [
    "plt.plot(range(1, 11), cv_scores_3, marker='o')\n",
    "plt.ylim(0, 1)\n",
    "plt.ylabel('Accuracy score', fontsize=15)\n",
    "plt.xlabel('Fold', fontsize=15)\n",
    "plt.xticks(range(1,11))\n",
    "print(\"Average Accuracy\",cv_scores_3.mean())\n",
    "print(\"Standard deviation of Accuracy\",cv_scores_3.std())"
   ]
  },
  {
   "cell_type": "code",
   "execution_count": null,
   "id": "fde92b76",
   "metadata": {},
   "outputs": [],
   "source": []
  }
 ],
 "metadata": {
  "kernelspec": {
   "display_name": "Python 3 (ipykernel)",
   "language": "python",
   "name": "python3"
  },
  "language_info": {
   "codemirror_mode": {
    "name": "ipython",
    "version": 3
   },
   "file_extension": ".py",
   "mimetype": "text/x-python",
   "name": "python",
   "nbconvert_exporter": "python",
   "pygments_lexer": "ipython3",
   "version": "3.9.12"
  }
 },
 "nbformat": 4,
 "nbformat_minor": 5
}
