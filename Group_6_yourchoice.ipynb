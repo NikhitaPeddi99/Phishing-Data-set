{
 "cells": [
  {
   "cell_type": "code",
   "execution_count": 1,
   "id": "4650d21e",
   "metadata": {},
   "outputs": [],
   "source": [
    "import pandas as pd\n",
    "import numpy as np\n",
    "from sklearn.linear_model import LogisticRegression\n",
    "from sklearn.model_selection import train_test_split\n",
    "from sklearn.metrics import accuracy_score,roc_curve, auc\n",
    "from sklearn.preprocessing import StandardScaler\n",
    "from sklearn.metrics import confusion_matrix, classification_report, recall_score, accuracy_score, roc_auc_score,f1_score"
   ]
  },
  {
   "cell_type": "code",
   "execution_count": 2,
   "id": "c35b0128",
   "metadata": {},
   "outputs": [
    {
     "data": {
      "text/html": [
       "<div>\n",
       "<style scoped>\n",
       "    .dataframe tbody tr th:only-of-type {\n",
       "        vertical-align: middle;\n",
       "    }\n",
       "\n",
       "    .dataframe tbody tr th {\n",
       "        vertical-align: top;\n",
       "    }\n",
       "\n",
       "    .dataframe thead th {\n",
       "        text-align: right;\n",
       "    }\n",
       "</style>\n",
       "<table border=\"1\" class=\"dataframe\">\n",
       "  <thead>\n",
       "    <tr style=\"text-align: right;\">\n",
       "      <th></th>\n",
       "      <th>Unnamed: 0</th>\n",
       "      <th>SFH</th>\n",
       "      <th>popUpWidnow</th>\n",
       "      <th>SSLfinal_State</th>\n",
       "      <th>Request_URL</th>\n",
       "      <th>URL_of_Anchor</th>\n",
       "      <th>web_traffic</th>\n",
       "      <th>URL_Length</th>\n",
       "      <th>age_of_domain</th>\n",
       "      <th>having_IP_Address</th>\n",
       "      <th>Result</th>\n",
       "    </tr>\n",
       "  </thead>\n",
       "  <tbody>\n",
       "    <tr>\n",
       "      <th>0</th>\n",
       "      <td>0</td>\n",
       "      <td>1</td>\n",
       "      <td>-1</td>\n",
       "      <td>1</td>\n",
       "      <td>-1</td>\n",
       "      <td>-1</td>\n",
       "      <td>1</td>\n",
       "      <td>1</td>\n",
       "      <td>1</td>\n",
       "      <td>0</td>\n",
       "      <td>0</td>\n",
       "    </tr>\n",
       "    <tr>\n",
       "      <th>1</th>\n",
       "      <td>1</td>\n",
       "      <td>-1</td>\n",
       "      <td>-1</td>\n",
       "      <td>-1</td>\n",
       "      <td>-1</td>\n",
       "      <td>-1</td>\n",
       "      <td>0</td>\n",
       "      <td>1</td>\n",
       "      <td>1</td>\n",
       "      <td>1</td>\n",
       "      <td>1</td>\n",
       "    </tr>\n",
       "    <tr>\n",
       "      <th>2</th>\n",
       "      <td>2</td>\n",
       "      <td>1</td>\n",
       "      <td>-1</td>\n",
       "      <td>0</td>\n",
       "      <td>0</td>\n",
       "      <td>-1</td>\n",
       "      <td>0</td>\n",
       "      <td>-1</td>\n",
       "      <td>1</td>\n",
       "      <td>0</td>\n",
       "      <td>1</td>\n",
       "    </tr>\n",
       "    <tr>\n",
       "      <th>3</th>\n",
       "      <td>3</td>\n",
       "      <td>1</td>\n",
       "      <td>0</td>\n",
       "      <td>1</td>\n",
       "      <td>-1</td>\n",
       "      <td>-1</td>\n",
       "      <td>0</td>\n",
       "      <td>1</td>\n",
       "      <td>1</td>\n",
       "      <td>0</td>\n",
       "      <td>0</td>\n",
       "    </tr>\n",
       "    <tr>\n",
       "      <th>4</th>\n",
       "      <td>4</td>\n",
       "      <td>-1</td>\n",
       "      <td>-1</td>\n",
       "      <td>1</td>\n",
       "      <td>-1</td>\n",
       "      <td>0</td>\n",
       "      <td>0</td>\n",
       "      <td>-1</td>\n",
       "      <td>1</td>\n",
       "      <td>0</td>\n",
       "      <td>1</td>\n",
       "    </tr>\n",
       "  </tbody>\n",
       "</table>\n",
       "</div>"
      ],
      "text/plain": [
       "   Unnamed: 0  SFH  popUpWidnow  SSLfinal_State  Request_URL  URL_of_Anchor  \\\n",
       "0           0    1           -1               1           -1             -1   \n",
       "1           1   -1           -1              -1           -1             -1   \n",
       "2           2    1           -1               0            0             -1   \n",
       "3           3    1            0               1           -1             -1   \n",
       "4           4   -1           -1               1           -1              0   \n",
       "\n",
       "   web_traffic  URL_Length  age_of_domain  having_IP_Address  Result  \n",
       "0            1           1              1                  0       0  \n",
       "1            0           1              1                  1       1  \n",
       "2            0          -1              1                  0       1  \n",
       "3            0           1              1                  0       0  \n",
       "4            0          -1              1                  0       1  "
      ]
     },
     "execution_count": 2,
     "metadata": {},
     "output_type": "execute_result"
    }
   ],
   "source": [
    "data = pd.read_csv('Group_6_data_cleaned.csv')\n",
    "data.head()"
   ]
  },
  {
   "cell_type": "code",
   "execution_count": 3,
   "id": "ab646bb6",
   "metadata": {},
   "outputs": [
    {
     "data": {
      "text/plain": [
       "Index(['Unnamed: 0', 'SFH', 'popUpWidnow', 'SSLfinal_State', 'Request_URL',\n",
       "       'URL_of_Anchor', 'web_traffic', 'URL_Length', 'age_of_domain',\n",
       "       'having_IP_Address', 'Result'],\n",
       "      dtype='object')"
      ]
     },
     "execution_count": 3,
     "metadata": {},
     "output_type": "execute_result"
    }
   ],
   "source": [
    "data.columns"
   ]
  },
  {
   "cell_type": "code",
   "execution_count": 4,
   "id": "845140a3",
   "metadata": {},
   "outputs": [],
   "source": [
    "# removing redundant column\n",
    "df = data.drop(['Unnamed: 0'],axis=1)"
   ]
  },
  {
   "cell_type": "code",
   "execution_count": 5,
   "id": "dc3d6551",
   "metadata": {},
   "outputs": [
    {
     "data": {
      "text/plain": [
       "(1353, 10)"
      ]
     },
     "execution_count": 5,
     "metadata": {},
     "output_type": "execute_result"
    }
   ],
   "source": [
    "df.shape"
   ]
  },
  {
   "cell_type": "code",
   "execution_count": 6,
   "id": "7aeba9f0",
   "metadata": {},
   "outputs": [
    {
     "data": {
      "text/plain": [
       "array([ 0,  1, -1])"
      ]
     },
     "execution_count": 6,
     "metadata": {},
     "output_type": "execute_result"
    }
   ],
   "source": [
    "df['Result'].unique()"
   ]
  },
  {
   "cell_type": "code",
   "execution_count": 7,
   "id": "3b1efd02",
   "metadata": {},
   "outputs": [
    {
     "data": {
      "text/plain": [
       "(1353, 10)"
      ]
     },
     "execution_count": 7,
     "metadata": {},
     "output_type": "execute_result"
    }
   ],
   "source": [
    "df.shape"
   ]
  },
  {
   "cell_type": "code",
   "execution_count": 8,
   "id": "e70277de",
   "metadata": {},
   "outputs": [
    {
     "data": {
      "text/html": [
       "<div>\n",
       "<style scoped>\n",
       "    .dataframe tbody tr th:only-of-type {\n",
       "        vertical-align: middle;\n",
       "    }\n",
       "\n",
       "    .dataframe tbody tr th {\n",
       "        vertical-align: top;\n",
       "    }\n",
       "\n",
       "    .dataframe thead th {\n",
       "        text-align: right;\n",
       "    }\n",
       "</style>\n",
       "<table border=\"1\" class=\"dataframe\">\n",
       "  <thead>\n",
       "    <tr style=\"text-align: right;\">\n",
       "      <th></th>\n",
       "      <th>SFH</th>\n",
       "      <th>popUpWidnow</th>\n",
       "      <th>SSLfinal_State</th>\n",
       "      <th>Request_URL</th>\n",
       "      <th>URL_of_Anchor</th>\n",
       "      <th>web_traffic</th>\n",
       "      <th>URL_Length</th>\n",
       "      <th>age_of_domain</th>\n",
       "      <th>having_IP_Address</th>\n",
       "      <th>Result</th>\n",
       "    </tr>\n",
       "  </thead>\n",
       "  <tbody>\n",
       "    <tr>\n",
       "      <th>count</th>\n",
       "      <td>1353.000000</td>\n",
       "      <td>1353.000000</td>\n",
       "      <td>1353.000000</td>\n",
       "      <td>1353.000000</td>\n",
       "      <td>1353.000000</td>\n",
       "      <td>1353.000000</td>\n",
       "      <td>1353.000000</td>\n",
       "      <td>1353.000000</td>\n",
       "      <td>1353.000000</td>\n",
       "      <td>1353.000000</td>\n",
       "    </tr>\n",
       "    <tr>\n",
       "      <th>mean</th>\n",
       "      <td>0.237990</td>\n",
       "      <td>-0.258684</td>\n",
       "      <td>0.327421</td>\n",
       "      <td>-0.223208</td>\n",
       "      <td>-0.025129</td>\n",
       "      <td>0.000000</td>\n",
       "      <td>-0.053215</td>\n",
       "      <td>0.219512</td>\n",
       "      <td>0.114560</td>\n",
       "      <td>-0.113821</td>\n",
       "    </tr>\n",
       "    <tr>\n",
       "      <th>std</th>\n",
       "      <td>0.916389</td>\n",
       "      <td>0.679072</td>\n",
       "      <td>0.822193</td>\n",
       "      <td>0.799682</td>\n",
       "      <td>0.936262</td>\n",
       "      <td>0.806776</td>\n",
       "      <td>0.762552</td>\n",
       "      <td>0.975970</td>\n",
       "      <td>0.318608</td>\n",
       "      <td>0.954773</td>\n",
       "    </tr>\n",
       "    <tr>\n",
       "      <th>min</th>\n",
       "      <td>-1.000000</td>\n",
       "      <td>-1.000000</td>\n",
       "      <td>-1.000000</td>\n",
       "      <td>-1.000000</td>\n",
       "      <td>-1.000000</td>\n",
       "      <td>-1.000000</td>\n",
       "      <td>-1.000000</td>\n",
       "      <td>-1.000000</td>\n",
       "      <td>0.000000</td>\n",
       "      <td>-1.000000</td>\n",
       "    </tr>\n",
       "    <tr>\n",
       "      <th>25%</th>\n",
       "      <td>-1.000000</td>\n",
       "      <td>-1.000000</td>\n",
       "      <td>0.000000</td>\n",
       "      <td>-1.000000</td>\n",
       "      <td>-1.000000</td>\n",
       "      <td>-1.000000</td>\n",
       "      <td>-1.000000</td>\n",
       "      <td>-1.000000</td>\n",
       "      <td>0.000000</td>\n",
       "      <td>-1.000000</td>\n",
       "    </tr>\n",
       "    <tr>\n",
       "      <th>50%</th>\n",
       "      <td>1.000000</td>\n",
       "      <td>0.000000</td>\n",
       "      <td>1.000000</td>\n",
       "      <td>0.000000</td>\n",
       "      <td>0.000000</td>\n",
       "      <td>0.000000</td>\n",
       "      <td>0.000000</td>\n",
       "      <td>1.000000</td>\n",
       "      <td>0.000000</td>\n",
       "      <td>-1.000000</td>\n",
       "    </tr>\n",
       "    <tr>\n",
       "      <th>75%</th>\n",
       "      <td>1.000000</td>\n",
       "      <td>0.000000</td>\n",
       "      <td>1.000000</td>\n",
       "      <td>0.000000</td>\n",
       "      <td>1.000000</td>\n",
       "      <td>1.000000</td>\n",
       "      <td>1.000000</td>\n",
       "      <td>1.000000</td>\n",
       "      <td>0.000000</td>\n",
       "      <td>1.000000</td>\n",
       "    </tr>\n",
       "    <tr>\n",
       "      <th>max</th>\n",
       "      <td>1.000000</td>\n",
       "      <td>1.000000</td>\n",
       "      <td>1.000000</td>\n",
       "      <td>1.000000</td>\n",
       "      <td>1.000000</td>\n",
       "      <td>1.000000</td>\n",
       "      <td>1.000000</td>\n",
       "      <td>1.000000</td>\n",
       "      <td>1.000000</td>\n",
       "      <td>1.000000</td>\n",
       "    </tr>\n",
       "  </tbody>\n",
       "</table>\n",
       "</div>"
      ],
      "text/plain": [
       "               SFH  popUpWidnow  SSLfinal_State  Request_URL  URL_of_Anchor  \\\n",
       "count  1353.000000  1353.000000     1353.000000  1353.000000    1353.000000   \n",
       "mean      0.237990    -0.258684        0.327421    -0.223208      -0.025129   \n",
       "std       0.916389     0.679072        0.822193     0.799682       0.936262   \n",
       "min      -1.000000    -1.000000       -1.000000    -1.000000      -1.000000   \n",
       "25%      -1.000000    -1.000000        0.000000    -1.000000      -1.000000   \n",
       "50%       1.000000     0.000000        1.000000     0.000000       0.000000   \n",
       "75%       1.000000     0.000000        1.000000     0.000000       1.000000   \n",
       "max       1.000000     1.000000        1.000000     1.000000       1.000000   \n",
       "\n",
       "       web_traffic   URL_Length  age_of_domain  having_IP_Address       Result  \n",
       "count  1353.000000  1353.000000    1353.000000        1353.000000  1353.000000  \n",
       "mean      0.000000    -0.053215       0.219512           0.114560    -0.113821  \n",
       "std       0.806776     0.762552       0.975970           0.318608     0.954773  \n",
       "min      -1.000000    -1.000000      -1.000000           0.000000    -1.000000  \n",
       "25%      -1.000000    -1.000000      -1.000000           0.000000    -1.000000  \n",
       "50%       0.000000     0.000000       1.000000           0.000000    -1.000000  \n",
       "75%       1.000000     1.000000       1.000000           0.000000     1.000000  \n",
       "max       1.000000     1.000000       1.000000           1.000000     1.000000  "
      ]
     },
     "execution_count": 8,
     "metadata": {},
     "output_type": "execute_result"
    }
   ],
   "source": [
    "#Statistical view of data frame\n",
    "df.describe()"
   ]
  },
  {
   "cell_type": "code",
   "execution_count": 9,
   "id": "2b2d82d0",
   "metadata": {},
   "outputs": [],
   "source": [
    "X = df.drop(['Result'],axis=1)\n",
    "y = df['Result']"
   ]
  },
  {
   "cell_type": "code",
   "execution_count": 10,
   "id": "1ba6dd19",
   "metadata": {},
   "outputs": [
    {
     "name": "stdout",
     "output_type": "stream",
     "text": [
      "[[ 0.83184339 -1.09206271  0.81833407 ...  1.38168214  0.8\n",
      "  -0.35969752]\n",
      " [-1.35144295 -1.09206271 -1.61508571 ...  1.38168214  0.8\n",
      "   2.78011371]\n",
      " [ 0.83184339 -1.09206271 -0.39837582 ... -1.24205952  0.8\n",
      "  -0.35969752]\n",
      " ...\n",
      " [-1.35144295  0.38107871 -1.61508571 ... -1.24205952 -1.25\n",
      "  -0.35969752]\n",
      " [-0.25979978  0.38107871  0.81833407 ... -1.24205952  0.8\n",
      "  -0.35969752]\n",
      " [ 0.83184339  0.38107871  0.81833407 ... -1.24205952 -1.25\n",
      "  -0.35969752]]\n"
     ]
    }
   ],
   "source": [
    "# importing Standard scalar for the data transformation\n",
    "# Scaling is very important in the case of linear models\n",
    "from sklearn.preprocessing import StandardScaler\n",
    "scaler = StandardScaler()\n",
    "scaled_X = scaler.fit_transform(X)\n",
    "print(scaled_X)"
   ]
  },
  {
   "cell_type": "code",
   "execution_count": 11,
   "id": "c046fd79",
   "metadata": {},
   "outputs": [],
   "source": [
    "X_train, X_test, y_train, y_test = train_test_split(scaled_X, y, test_size = 0.3, random_state=100)"
   ]
  },
  {
   "cell_type": "markdown",
   "id": "5c218d45",
   "metadata": {},
   "source": [
    "# Hyper parameter with randomized search method "
   ]
  },
  {
   "cell_type": "code",
   "execution_count": 12,
   "id": "03de53af",
   "metadata": {},
   "outputs": [
    {
     "name": "stderr",
     "output_type": "stream",
     "text": [
      "/Users/kirankumarvelinedi/opt/anaconda3/lib/python3.9/site-packages/sklearn/model_selection/_search.py:292: UserWarning: The total space of parameters 6 is smaller than n_iter=10. Running 6 iterations. For exhaustive searches, use GridSearchCV.\n",
      "  warnings.warn(\n",
      "/Users/kirankumarvelinedi/opt/anaconda3/lib/python3.9/site-packages/sklearn/model_selection/_validation.py:372: FitFailedWarning: \n",
      "20 fits failed out of a total of 30.\n",
      "The score on these train-test partitions for these parameters will be set to nan.\n",
      "If these failures are not expected, you can try to debug them by setting error_score='raise'.\n",
      "\n",
      "Below are more details about the failures:\n",
      "--------------------------------------------------------------------------------\n",
      "10 fits failed with the following error:\n",
      "Traceback (most recent call last):\n",
      "  File \"/Users/kirankumarvelinedi/opt/anaconda3/lib/python3.9/site-packages/sklearn/model_selection/_validation.py\", line 680, in _fit_and_score\n",
      "    estimator.fit(X_train, y_train, **fit_params)\n",
      "  File \"/Users/kirankumarvelinedi/opt/anaconda3/lib/python3.9/site-packages/sklearn/linear_model/_logistic.py\", line 1519, in fit\n",
      "    multi_class = _check_multi_class(self.multi_class, solver, len(self.classes_))\n",
      "  File \"/Users/kirankumarvelinedi/opt/anaconda3/lib/python3.9/site-packages/sklearn/linear_model/_logistic.py\", line 483, in _check_multi_class\n",
      "    raise ValueError(\"Solver %s does not support a multinomial backend.\" % solver)\n",
      "ValueError: Solver liblinear does not support a multinomial backend.\n",
      "\n",
      "--------------------------------------------------------------------------------\n",
      "5 fits failed with the following error:\n",
      "Traceback (most recent call last):\n",
      "  File \"/Users/kirankumarvelinedi/opt/anaconda3/lib/python3.9/site-packages/sklearn/model_selection/_validation.py\", line 680, in _fit_and_score\n",
      "    estimator.fit(X_train, y_train, **fit_params)\n",
      "  File \"/Users/kirankumarvelinedi/opt/anaconda3/lib/python3.9/site-packages/sklearn/linear_model/_logistic.py\", line 1461, in fit\n",
      "    solver = _check_solver(self.solver, self.penalty, self.dual)\n",
      "  File \"/Users/kirankumarvelinedi/opt/anaconda3/lib/python3.9/site-packages/sklearn/linear_model/_logistic.py\", line 447, in _check_solver\n",
      "    raise ValueError(\n",
      "ValueError: Solver newton-cg supports only 'l2' or 'none' penalties, got l1 penalty.\n",
      "\n",
      "--------------------------------------------------------------------------------\n",
      "5 fits failed with the following error:\n",
      "Traceback (most recent call last):\n",
      "  File \"/Users/kirankumarvelinedi/opt/anaconda3/lib/python3.9/site-packages/sklearn/model_selection/_validation.py\", line 680, in _fit_and_score\n",
      "    estimator.fit(X_train, y_train, **fit_params)\n",
      "  File \"/Users/kirankumarvelinedi/opt/anaconda3/lib/python3.9/site-packages/sklearn/linear_model/_logistic.py\", line 1461, in fit\n",
      "    solver = _check_solver(self.solver, self.penalty, self.dual)\n",
      "  File \"/Users/kirankumarvelinedi/opt/anaconda3/lib/python3.9/site-packages/sklearn/linear_model/_logistic.py\", line 447, in _check_solver\n",
      "    raise ValueError(\n",
      "ValueError: Solver lbfgs supports only 'l2' or 'none' penalties, got l1 penalty.\n",
      "\n",
      "  warnings.warn(some_fits_failed_message, FitFailedWarning)\n",
      "/Users/kirankumarvelinedi/opt/anaconda3/lib/python3.9/site-packages/sklearn/model_selection/_search.py:969: UserWarning: One or more of the test scores are non-finite: [0.83106099 0.83106099        nan        nan        nan        nan]\n",
      "  warnings.warn(\n"
     ]
    },
    {
     "data": {
      "text/plain": [
       "RandomizedSearchCV(estimator=LogisticRegression(),\n",
       "                   param_distributions={'multi_class': ['multinomial'],\n",
       "                                        'penalty': ['l2', 'l1'],\n",
       "                                        'solver': ['newton-cg', 'lbfgs',\n",
       "                                                   'liblinear']},\n",
       "                   random_state=0)"
      ]
     },
     "execution_count": 12,
     "metadata": {},
     "output_type": "execute_result"
    }
   ],
   "source": [
    "from sklearn.model_selection import  RandomizedSearchCV\n",
    "parameters = {\n",
    "    'solver'  : ['newton-cg', 'lbfgs', 'liblinear'],'penalty': ['l2','l1'],'multi_class':['multinomial']\n",
    "}\n",
    "lg = LogisticRegression()\n",
    "randomized = RandomizedSearchCV(lg,parameters,random_state=0)\n",
    "randomized.fit(X_train,y_train)"
   ]
  },
  {
   "cell_type": "code",
   "execution_count": 13,
   "id": "357c9a3d",
   "metadata": {},
   "outputs": [
    {
     "data": {
      "text/plain": [
       "{'solver': 'newton-cg', 'penalty': 'l2', 'multi_class': 'multinomial'}"
      ]
     },
     "execution_count": 13,
     "metadata": {},
     "output_type": "execute_result"
    }
   ],
   "source": [
    "randomized.best_params_"
   ]
  },
  {
   "cell_type": "code",
   "execution_count": 14,
   "id": "903bf777",
   "metadata": {},
   "outputs": [],
   "source": [
    "# logistic model with best hyper parameters\n",
    "import pickle\n",
    "log_model = LogisticRegression(penalty='l2',solver='newton-cg',multi_class='multinomial')\n",
    "log_model.fit(X_train,y_train)\n",
    "model_name = 'lg_model.sav'\n",
    "pickle.dump(log_model, open(model_name, 'wb'))"
   ]
  },
  {
   "cell_type": "markdown",
   "id": "a0a6401b",
   "metadata": {},
   "source": [
    "# Evalution Metrics "
   ]
  },
  {
   "cell_type": "code",
   "execution_count": 15,
   "id": "c14d364d",
   "metadata": {},
   "outputs": [
    {
     "name": "stdout",
     "output_type": "stream",
     "text": [
      " The accuracy for traing data is 0.8373812038014784\n",
      " The accuracy for testing data is 0.8275862068965517\n",
      " The recall score for traing data is 0.8373812038014784 \n",
      " The recall score for testing data is 0.8275862068965517 \n",
      " The f-1 score for the training data is 0.8147016368390138\n",
      " The f-1 score for the testing data is 0.8087961743209328\n"
     ]
    }
   ],
   "source": [
    "# Trainina and testing accuracy, recall,f1 score\n",
    "y_train_pred = log_model.predict(X_train)\n",
    "y_test_pred  = log_model.predict(X_test)\n",
    "print(f\" The accuracy for traing data is {accuracy_score(y_train,y_train_pred)}\")\n",
    "print(f\" The accuracy for testing data is {accuracy_score(y_test,y_test_pred)}\")\n",
    "print(f\" The recall score for traing data is {recall_score(y_train,y_train_pred,average='weighted')} \")\n",
    "print(f\" The recall score for testing data is {recall_score(y_test,y_test_pred,average='weighted')} \")\n",
    "print(f\" The f-1 score for the training data is {f1_score(y_train,y_train_pred,average= 'weighted')}\")\n",
    "print(f\" The f-1 score for the testing data is {f1_score(y_test,y_test_pred,average= 'weighted')}\")"
   ]
  },
  {
   "cell_type": "code",
   "execution_count": 16,
   "id": "331b0dae",
   "metadata": {},
   "outputs": [
    {
     "name": "stdout",
     "output_type": "stream",
     "text": [
      " The training roc auc score 0.8969442579162564\n",
      " The testing roc auc score 0.8839487913018783\n"
     ]
    }
   ],
   "source": [
    "y_train_roc = log_model.predict_proba(X_train)\n",
    "y_test_roc = log_model.predict_proba(X_test)\n",
    "train_roc_score = roc_auc_score(y_train,y_train_roc,average='macro',multi_class='ovo')\n",
    "test_roc_score = roc_auc_score(y_test,y_test_roc,average='macro',multi_class='ovo')\n",
    "print(f\" The training roc auc score {train_roc_score}\")\n",
    "print(f\" The testing roc auc score {test_roc_score}\")"
   ]
  },
  {
   "cell_type": "code",
   "execution_count": 17,
   "id": "caf01a00",
   "metadata": {},
   "outputs": [
    {
     "name": "stdout",
     "output_type": "stream",
     "text": [
      "              precision    recall  f1-score   support\n",
      "\n",
      "          -1       0.87      0.91      0.89       510\n",
      "           0       0.33      0.07      0.11        72\n",
      "           1       0.82      0.88      0.85       365\n",
      "\n",
      "    accuracy                           0.84       947\n",
      "   macro avg       0.67      0.62      0.62       947\n",
      "weighted avg       0.81      0.84      0.81       947\n",
      "\n"
     ]
    }
   ],
   "source": [
    "# classification report for training data \n",
    "print(classification_report(y_train,y_train_pred))"
   ]
  },
  {
   "cell_type": "code",
   "execution_count": 18,
   "id": "b57404c1",
   "metadata": {},
   "outputs": [
    {
     "name": "stdout",
     "output_type": "stream",
     "text": [
      "              precision    recall  f1-score   support\n",
      "\n",
      "          -1       0.81      0.93      0.86       192\n",
      "           0       0.50      0.13      0.21        31\n",
      "           1       0.87      0.84      0.85       183\n",
      "\n",
      "    accuracy                           0.83       406\n",
      "   macro avg       0.73      0.63      0.64       406\n",
      "weighted avg       0.81      0.83      0.81       406\n",
      "\n"
     ]
    }
   ],
   "source": [
    "# classification report for test data\n",
    "print(classification_report(y_test,y_test_pred))"
   ]
  },
  {
   "cell_type": "code",
   "execution_count": 19,
   "id": "7412b01f",
   "metadata": {},
   "outputs": [
    {
     "name": "stdout",
     "output_type": "stream",
     "text": [
      "[[466   5  39]\n",
      " [ 34   5  33]\n",
      " [ 38   5 322]]\n"
     ]
    }
   ],
   "source": [
    "# confusion matrix for training data\n",
    "print(confusion_matrix(y_train,y_train_pred))"
   ]
  },
  {
   "cell_type": "code",
   "execution_count": 20,
   "id": "640d7310",
   "metadata": {},
   "outputs": [
    {
     "name": "stdout",
     "output_type": "stream",
     "text": [
      "[[179   0  13]\n",
      " [ 17   4  10]\n",
      " [ 26   4 153]]\n"
     ]
    }
   ],
   "source": [
    "# confusion matrix for testing data\n",
    "print(confusion_matrix(y_test,y_test_pred))"
   ]
  },
  {
   "cell_type": "code",
   "execution_count": 21,
   "id": "c69b614f",
   "metadata": {},
   "outputs": [
    {
     "name": "stderr",
     "output_type": "stream",
     "text": [
      "/Users/kirankumarvelinedi/opt/anaconda3/lib/python3.9/site-packages/sklearn/utils/deprecation.py:87: FutureWarning: Function plot_roc_curve is deprecated; This will be removed in v0.5.0. Please use scikitplot.metrics.plot_roc instead.\n",
      "  warnings.warn(msg, category=FutureWarning)\n"
     ]
    },
    {
     "data": {
      "image/png": "[encoded data removed]",
      "text/plain": [
       "<Figure size 640x480 with 1 Axes>"
      ]
     },
     "metadata": {},
     "output_type": "display_data"
    }
   ],
   "source": [
    "import sklearn.metrics as metrics\n",
    "import scikitplot as skplt\n",
    "import matplotlib.pyplot as plt\n",
    "y_probas = log_model.predict_proba(X_test)\n",
    "skplt.metrics.plot_roc_curve(y_test,y_probas)\n",
    "plt.show()"
   ]
  }
 ],
 "metadata": {
  "kernelspec": {
   "display_name": "Python 3 (ipykernel)",
   "language": "python",
   "name": "python3"
  },
  "language_info": {
   "codemirror_mode": {
    "name": "ipython",
    "version": 3
   },
   "file_extension": ".py",
   "mimetype": "text/x-python",
   "name": "python",
   "nbconvert_exporter": "python",
   "pygments_lexer": "ipython3",
   "version": "3.9.13"
  }
 },
 "nbformat": 4,
 "nbformat_minor": 5
}
