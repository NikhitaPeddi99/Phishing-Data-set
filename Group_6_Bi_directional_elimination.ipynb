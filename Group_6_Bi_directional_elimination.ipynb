{
 "cells": [
  {
   "cell_type": "code",
   "execution_count": 1,
   "id": "92e94ccc",
   "metadata": {},
   "outputs": [],
   "source": [
    "import pandas as pd\n",
    "import numpy as np\n",
    "import sys\n",
    "import joblib\n",
    "sys.modules['sklearn.externals.joblib'] = joblib\n",
    "from mlxtend.feature_selection import SequentialFeatureSelector as SFS\n",
    "from sklearn.ensemble import RandomForestClassifier\n",
    "from sklearn.model_selection import GridSearchCV , train_test_split\n",
    "from sklearn.metrics import accuracy_score, recall_score,confusion_matrix\n",
    "from skelm import ELMClassifier\n",
    "from itertools import product"
   ]
  },
  {
   "cell_type": "code",
   "execution_count": 2,
   "id": "621d45e7",
   "metadata": {},
   "outputs": [
    {
     "data": {
      "text/html": [
       "<div>\n",
       "<style scoped>\n",
       "    .dataframe tbody tr th:only-of-type {\n",
       "        vertical-align: middle;\n",
       "    }\n",
       "\n",
       "    .dataframe tbody tr th {\n",
       "        vertical-align: top;\n",
       "    }\n",
       "\n",
       "    .dataframe thead th {\n",
       "        text-align: right;\n",
       "    }\n",
       "</style>\n",
       "<table border=\"1\" class=\"dataframe\">\n",
       "  <thead>\n",
       "    <tr style=\"text-align: right;\">\n",
       "      <th></th>\n",
       "      <th>Unnamed: 0</th>\n",
       "      <th>SFH</th>\n",
       "      <th>popUpWidnow</th>\n",
       "      <th>SSLfinal_State</th>\n",
       "      <th>Request_URL</th>\n",
       "      <th>URL_of_Anchor</th>\n",
       "      <th>web_traffic</th>\n",
       "      <th>URL_Length</th>\n",
       "      <th>age_of_domain</th>\n",
       "      <th>having_IP_Address</th>\n",
       "      <th>Result</th>\n",
       "    </tr>\n",
       "  </thead>\n",
       "  <tbody>\n",
       "    <tr>\n",
       "      <th>0</th>\n",
       "      <td>0</td>\n",
       "      <td>1</td>\n",
       "      <td>-1</td>\n",
       "      <td>1</td>\n",
       "      <td>-1</td>\n",
       "      <td>-1</td>\n",
       "      <td>1</td>\n",
       "      <td>1</td>\n",
       "      <td>1</td>\n",
       "      <td>0</td>\n",
       "      <td>0</td>\n",
       "    </tr>\n",
       "    <tr>\n",
       "      <th>1</th>\n",
       "      <td>1</td>\n",
       "      <td>-1</td>\n",
       "      <td>-1</td>\n",
       "      <td>-1</td>\n",
       "      <td>-1</td>\n",
       "      <td>-1</td>\n",
       "      <td>0</td>\n",
       "      <td>1</td>\n",
       "      <td>1</td>\n",
       "      <td>1</td>\n",
       "      <td>1</td>\n",
       "    </tr>\n",
       "    <tr>\n",
       "      <th>2</th>\n",
       "      <td>2</td>\n",
       "      <td>1</td>\n",
       "      <td>-1</td>\n",
       "      <td>0</td>\n",
       "      <td>0</td>\n",
       "      <td>-1</td>\n",
       "      <td>0</td>\n",
       "      <td>-1</td>\n",
       "      <td>1</td>\n",
       "      <td>0</td>\n",
       "      <td>1</td>\n",
       "    </tr>\n",
       "    <tr>\n",
       "      <th>3</th>\n",
       "      <td>3</td>\n",
       "      <td>1</td>\n",
       "      <td>0</td>\n",
       "      <td>1</td>\n",
       "      <td>-1</td>\n",
       "      <td>-1</td>\n",
       "      <td>0</td>\n",
       "      <td>1</td>\n",
       "      <td>1</td>\n",
       "      <td>0</td>\n",
       "      <td>0</td>\n",
       "    </tr>\n",
       "    <tr>\n",
       "      <th>4</th>\n",
       "      <td>4</td>\n",
       "      <td>-1</td>\n",
       "      <td>-1</td>\n",
       "      <td>1</td>\n",
       "      <td>-1</td>\n",
       "      <td>0</td>\n",
       "      <td>0</td>\n",
       "      <td>-1</td>\n",
       "      <td>1</td>\n",
       "      <td>0</td>\n",
       "      <td>1</td>\n",
       "    </tr>\n",
       "  </tbody>\n",
       "</table>\n",
       "</div>"
      ],
      "text/plain": [
       "   Unnamed: 0  SFH  popUpWidnow  SSLfinal_State  Request_URL  URL_of_Anchor  \\\n",
       "0           0    1           -1               1           -1             -1   \n",
       "1           1   -1           -1              -1           -1             -1   \n",
       "2           2    1           -1               0            0             -1   \n",
       "3           3    1            0               1           -1             -1   \n",
       "4           4   -1           -1               1           -1              0   \n",
       "\n",
       "   web_traffic  URL_Length  age_of_domain  having_IP_Address  Result  \n",
       "0            1           1              1                  0       0  \n",
       "1            0           1              1                  1       1  \n",
       "2            0          -1              1                  0       1  \n",
       "3            0           1              1                  0       0  \n",
       "4            0          -1              1                  0       1  "
      ]
     },
     "execution_count": 2,
     "metadata": {},
     "output_type": "execute_result"
    }
   ],
   "source": [
    "# Now we import the dataset\n",
    "df=pd.read_csv('Group_6_data_cleaned.csv')\n",
    "df.head()"
   ]
  },
  {
   "cell_type": "code",
   "execution_count": 3,
   "id": "b2e69736",
   "metadata": {},
   "outputs": [],
   "source": [
    "df = df.drop(['Unnamed: 0'],axis=1)"
   ]
  },
  {
   "cell_type": "code",
   "execution_count": 4,
   "id": "e9d11188",
   "metadata": {},
   "outputs": [],
   "source": [
    "X = df.drop([\"Result\"], axis = 1)\n",
    "y = df[\"Result\"]"
   ]
  },
  {
   "cell_type": "code",
   "execution_count": null,
   "id": "78ef6396",
   "metadata": {},
   "outputs": [],
   "source": []
  },
  {
   "cell_type": "code",
   "execution_count": 5,
   "id": "87bb42a8",
   "metadata": {},
   "outputs": [],
   "source": [
    "X_train, X_test, y_train, y_test = train_test_split(X,y,random_state = 42,test_size = 0.2)"
   ]
  },
  {
   "cell_type": "code",
   "execution_count": 6,
   "id": "c9240557",
   "metadata": {},
   "outputs": [],
   "source": [
    "# Oversampling and transform the dataset\n",
    "import imblearn\n",
    "from imblearn.over_sampling import SMOTE\n",
    "oversample = SMOTE()\n",
    "X_train,y_train= oversample.fit_resample(X_train, y_train)"
   ]
  },
  {
   "cell_type": "markdown",
   "id": "d5328c5c",
   "metadata": {},
   "source": [
    "# Bi-directional Elmination with wrapper method"
   ]
  },
  {
   "cell_type": "markdown",
   "id": "fb1d99e0",
   "metadata": {},
   "source": [
    "# Best Model from Part 1: Random Forest"
   ]
  },
  {
   "cell_type": "code",
   "execution_count": 7,
   "id": "74c98fe7",
   "metadata": {},
   "outputs": [],
   "source": [
    "rf_ = RandomForestClassifier()"
   ]
  },
  {
   "cell_type": "code",
   "execution_count": 8,
   "id": "24ab7cc1",
   "metadata": {},
   "outputs": [],
   "source": [
    "sffs = SFS(rf_,forward=True, floating=True, k_features=5, scoring='accuracy', cv=10)"
   ]
  },
  {
   "cell_type": "code",
   "execution_count": 9,
   "id": "16bc7118",
   "metadata": {},
   "outputs": [
    {
     "data": {
      "text/plain": [
       "((1710, 9), (1710,))"
      ]
     },
     "execution_count": 9,
     "metadata": {},
     "output_type": "execute_result"
    }
   ],
   "source": [
    "X_train.shape,y_train.shape"
   ]
  },
  {
   "cell_type": "code",
   "execution_count": 10,
   "id": "a3aa60f5",
   "metadata": {},
   "outputs": [
    {
     "data": {
      "text/plain": [
       "SequentialFeatureSelector(cv=10, estimator=RandomForestClassifier(),\n",
       "                          floating=True, k_features=(5, 5), scoring='accuracy')"
      ]
     },
     "execution_count": 10,
     "metadata": {},
     "output_type": "execute_result"
    }
   ],
   "source": [
    "sffs.fit(X_train,y_train)"
   ]
  },
  {
   "cell_type": "code",
   "execution_count": 11,
   "id": "2d0dcb2d",
   "metadata": {},
   "outputs": [
    {
     "data": {
      "text/plain": [
       "('SFH', 'SSLfinal_State', 'Request_URL', 'URL_of_Anchor', 'URL_Length')"
      ]
     },
     "execution_count": 11,
     "metadata": {},
     "output_type": "execute_result"
    }
   ],
   "source": [
    "sffs.k_feature_names_"
   ]
  },
  {
   "cell_type": "code",
   "execution_count": 12,
   "id": "dfb8ca3b",
   "metadata": {},
   "outputs": [
    {
     "name": "stdout",
     "output_type": "stream",
     "text": [
      "      SFH  SSLfinal_State  Request_URL  URL_of_Anchor  URL_Length\n",
      "0      -1              -1           -1              1          -1\n",
      "1       1               1            1              1           0\n",
      "2      -1               0           -1             -1           1\n",
      "3       0               1            0              1           0\n",
      "4      -1               1           -1             -1          -1\n",
      "...   ...             ...          ...            ...         ...\n",
      "1705    1               0           -1             -1           0\n",
      "1706    1               0           -1             -1          -1\n",
      "1707    1               0           -1             -1          -1\n",
      "1708   -1              -1            0             -1           0\n",
      "1709   -1              -1           -1             -1           0\n",
      "\n",
      "[1710 rows x 5 columns]\n"
     ]
    }
   ],
   "source": [
    "x_train_alt = X_train[list(sffs.k_feature_names_)]\n",
    "x_test_alt=X_test[list(sffs.k_feature_names_)]\n",
    "\n",
    "print(x_train_alt)"
   ]
  },
  {
   "cell_type": "code",
   "execution_count": 13,
   "id": "7e0fa7ed",
   "metadata": {},
   "outputs": [
    {
     "name": "stdout",
     "output_type": "stream",
     "text": [
      "      SFH  SSLfinal_State  Request_URL  URL_of_Anchor  URL_Length\n",
      "49      1              -1           -1              1           1\n",
      "638    -1               0           -1             -1          -1\n",
      "1033    1               1           -1              1           0\n",
      "746     1               1            1              1           0\n",
      "918    -1               1           -1             -1           0\n",
      "...   ...             ...          ...            ...         ...\n",
      "731     1               1            1              0           0\n",
      "1283    1               1            0             -1           0\n",
      "1306   -1              -1           -1              1          -1\n",
      "724    -1              -1           -1              1           0\n",
      "54      1               0           -1             -1          -1\n",
      "\n",
      "[271 rows x 5 columns]\n"
     ]
    }
   ],
   "source": [
    "print(x_test_alt)"
   ]
  },
  {
   "cell_type": "code",
   "execution_count": 14,
   "id": "3a3a96cc",
   "metadata": {},
   "outputs": [],
   "source": [
    "params_grid={\n",
    "    'max_depth': [10,50,90],\n",
    "    'max_features':['auto','log2'],\n",
    "    'n_estimators':[10,55,100]\n",
    "}"
   ]
  },
  {
   "cell_type": "code",
   "execution_count": 15,
   "id": "c851676b",
   "metadata": {},
   "outputs": [],
   "source": [
    "grid_rf=GridSearchCV(rf_, params_grid, scoring='accuracy', refit=True, n_jobs=1)"
   ]
  },
  {
   "cell_type": "code",
   "execution_count": 16,
   "id": "e45f1d81",
   "metadata": {},
   "outputs": [
    {
     "name": "stdout",
     "output_type": "stream",
     "text": [
      "GridSearchCV(estimator=RandomForestClassifier(), n_jobs=1,\n",
      "             param_grid={'max_depth': [10, 50, 90],\n",
      "                         'max_features': ['auto', 'log2'],\n",
      "                         'n_estimators': [10, 55, 100]},\n",
      "             scoring='accuracy')\n"
     ]
    }
   ],
   "source": [
    "grid_search = grid_rf.fit(X_train,y_train)\n",
    "print(grid_search)"
   ]
  },
  {
   "cell_type": "code",
   "execution_count": 17,
   "id": "01e3976a",
   "metadata": {},
   "outputs": [
    {
     "name": "stdout",
     "output_type": "stream",
     "text": [
      "{'max_depth': 50, 'max_features': 'log2', 'n_estimators': 100}\n",
      "Accuracy for our training dataset 94.09356725146199\n"
     ]
    }
   ],
   "source": [
    "print(grid_search.best_params_)\n",
    "accuracy=grid_search.best_score_*100\n",
    "print(\"Accuracy for our training dataset\",accuracy)"
   ]
  },
  {
   "cell_type": "code",
   "execution_count": 18,
   "id": "0e3414fa",
   "metadata": {},
   "outputs": [
    {
     "data": {
      "text/plain": [
       "RandomForestClassifier(max_depth=10, max_features='log2')"
      ]
     },
     "execution_count": 18,
     "metadata": {},
     "output_type": "execute_result"
    }
   ],
   "source": [
    "rf_clf_sffs = RandomForestClassifier(n_estimators=100, max_depth = 10, max_features = 'log2')\n",
    "rf_clf_sffs.fit(x_train_alt, y_train)"
   ]
  },
  {
   "cell_type": "code",
   "execution_count": 19,
   "id": "29110112",
   "metadata": {},
   "outputs": [],
   "source": [
    "rf_preds = rf_clf_sffs.predict(x_train_alt)"
   ]
  },
  {
   "cell_type": "code",
   "execution_count": 20,
   "id": "626f6c1e",
   "metadata": {},
   "outputs": [
    {
     "name": "stdout",
     "output_type": "stream",
     "text": [
      "Accuracy for our training dataset 94.09356725146199\n"
     ]
    }
   ],
   "source": [
    "accuracy_score(y_true = y_train, y_pred = rf_preds)\n",
    "print(\"Accuracy for our training dataset\",accuracy)"
   ]
  },
  {
   "cell_type": "code",
   "execution_count": 21,
   "id": "2ecea020",
   "metadata": {},
   "outputs": [
    {
     "name": "stdout",
     "output_type": "stream",
     "text": [
      "Recall for our training dataset 0.9146198830409357\n"
     ]
    }
   ],
   "source": [
    "recall = recall_score(y_true = y_train, y_pred = rf_preds,average='weighted')\n",
    "print(\"Recall for our training dataset\",recall)"
   ]
  },
  {
   "cell_type": "code",
   "execution_count": 22,
   "id": "9eb90521",
   "metadata": {},
   "outputs": [
    {
     "data": {
      "text/plain": [
       "array([[538,   7,  25],\n",
       "       [  0, 560,  10],\n",
       "       [ 48,  56, 466]])"
      ]
     },
     "execution_count": 22,
     "metadata": {},
     "output_type": "execute_result"
    }
   ],
   "source": [
    "cm= confusion_matrix(y_train,rf_preds)\n",
    "cm"
   ]
  },
  {
   "cell_type": "code",
   "execution_count": 23,
   "id": "fc766115",
   "metadata": {},
   "outputs": [
    {
     "name": "stdout",
     "output_type": "stream",
     "text": [
      "Accuracy for training dataset 0.9146198830409357\n",
      "Recall for training dataset 0.9146198830409357\n"
     ]
    },
    {
     "data": {
      "text/plain": [
       "array([[538,   7,  25],\n",
       "       [  0, 560,  10],\n",
       "       [ 48,  56, 466]])"
      ]
     },
     "execution_count": 23,
     "metadata": {},
     "output_type": "execute_result"
    }
   ],
   "source": [
    "rf_preds = rf_clf_sffs.predict(x_train_alt)\n",
    "accuracy = accuracy_score(y_true = y_train, y_pred = rf_preds)\n",
    "print(\"Accuracy for training dataset\",accuracy)\n",
    "recall = recall_score(y_true = y_train, y_pred = rf_preds,average='weighted')\n",
    "print(\"Recall for training dataset\",recall)\n",
    "cm= confusion_matrix(y_train,rf_preds)\n",
    "cm"
   ]
  },
  {
   "cell_type": "code",
   "execution_count": 24,
   "id": "e7c1a8c5",
   "metadata": {},
   "outputs": [
    {
     "name": "stdout",
     "output_type": "stream",
     "text": [
      "Accuracy for testing dataset 0.8265682656826568\n",
      "Recall for testing dataset 0.8265682656826568\n"
     ]
    },
    {
     "data": {
      "text/plain": [
       "array([[120,   3,   9],\n",
       "       [  0,  21,   4],\n",
       "       [ 21,  10,  83]])"
      ]
     },
     "execution_count": 24,
     "metadata": {},
     "output_type": "execute_result"
    }
   ],
   "source": [
    "rf_preds = rf_clf_sffs.predict(x_test_alt)\n",
    "accuracy = accuracy_score(y_true = y_test, y_pred = rf_preds)\n",
    "print(\"Accuracy for testing dataset\",accuracy)\n",
    "recall = recall_score(y_true = y_test, y_pred = rf_preds,average='weighted')\n",
    "print(\"Recall for testing dataset\",recall)\n",
    "cm= confusion_matrix(y_test,rf_preds)\n",
    "cm"
   ]
  },
  {
   "cell_type": "markdown",
   "id": "70b2ede7",
   "metadata": {},
   "source": [
    "# Best Model from Part-2 : ELM"
   ]
  },
  {
   "cell_type": "code",
   "execution_count": 26,
   "id": "79b209bd",
   "metadata": {},
   "outputs": [],
   "source": [
    "# Add the required tags for compatibility with scikit-learn 1.0 and later\n",
    "ELMClassifier._get_tags = lambda self: {'binary_only': True, 'multiclass': True, 'multioutput': False, 'pairwise': False, 'poor_score': False, 'no_validation': False, 'no_score': False}\n"
   ]
  },
  {
   "cell_type": "code",
   "execution_count": 27,
   "id": "b20b11db",
   "metadata": {},
   "outputs": [],
   "source": [
    "# Define ELM classifier with default parameters\n",
    "clf = ELMClassifier()"
   ]
  },
  {
   "cell_type": "code",
   "execution_count": 28,
   "id": "9521d5a1",
   "metadata": {},
   "outputs": [],
   "source": [
    "sffs = SFS(clf,\n",
    "          k_features=5,\n",
    "          forward=True,\n",
    "          floating=True,\n",
    "          scoring='accuracy',\n",
    "          cv=5)"
   ]
  },
  {
   "cell_type": "code",
   "execution_count": 29,
   "id": "536f5ad4",
   "metadata": {},
   "outputs": [
    {
     "data": {
      "text/plain": [
       "SequentialFeatureSelector(estimator=ELMClassifier(), floating=True,\n",
       "                          k_features=(5, 5), scoring='accuracy')"
      ]
     },
     "execution_count": 29,
     "metadata": {},
     "output_type": "execute_result"
    }
   ],
   "source": [
    "# Fit SFS on training data\n",
    "sffs.fit(X_train, y_train)"
   ]
  },
  {
   "cell_type": "code",
   "execution_count": 30,
   "id": "d280efe6",
   "metadata": {},
   "outputs": [
    {
     "data": {
      "text/plain": [
       "[0, 2, 3, 4, 5]"
      ]
     },
     "execution_count": 30,
     "metadata": {},
     "output_type": "execute_result"
    }
   ],
   "source": [
    "selected_features = list(sffs.k_feature_idx_)\n",
    "selected_features"
   ]
  },
  {
   "cell_type": "code",
   "execution_count": 31,
   "id": "bdf9c9d7",
   "metadata": {},
   "outputs": [
    {
     "data": {
      "text/plain": [
       "('SFH', 'SSLfinal_State', 'Request_URL', 'URL_of_Anchor', 'web_traffic')"
      ]
     },
     "execution_count": 31,
     "metadata": {},
     "output_type": "execute_result"
    }
   ],
   "source": [
    "sffs.k_feature_names_"
   ]
  },
  {
   "cell_type": "code",
   "execution_count": 32,
   "id": "287aaa11",
   "metadata": {},
   "outputs": [],
   "source": [
    "x_train_alt = X_train[list(sffs.k_feature_names_)]\n",
    "x_test_alt=X_test[list(sffs.k_feature_names_)]\n"
   ]
  },
  {
   "cell_type": "code",
   "execution_count": 33,
   "id": "53b37309",
   "metadata": {},
   "outputs": [
    {
     "name": "stdout",
     "output_type": "stream",
     "text": [
      "{'n_neurons': 400, 'ufunc': 'relu', 'alpha': 0.1}\n",
      "0.9321637426900585\n"
     ]
    }
   ],
   "source": [
    "from itertools import product\n",
    "\n",
    "class ELMGridSearch:\n",
    "    def __init__(self, param_grid,cv=5):\n",
    "        self.param_grid = param_grid\n",
    "        self.cv = cv\n",
    "        \n",
    "    def fit(self, X_train, y_train):\n",
    "        best_score = 0\n",
    "        best_params = None\n",
    "        \n",
    "        n_samples = X_train.shape[0]\n",
    "        fold_size = n_samples // self.cv\n",
    "        \n",
    "        for params in product(*self.param_grid.values()):\n",
    "            params = dict(zip(self.param_grid.keys(), params))\n",
    "            clf = ELMClassifier(**params)\n",
    "            clf.fit(X_train, y_train)\n",
    "            # Perform manual cross-validation\n",
    "            scores = []\n",
    "            for fold in range(self.cv):\n",
    "                start = fold * fold_size\n",
    "                end = start + fold_size\n",
    "                \n",
    "                # Split data into training and validation folds\n",
    "                X_val = X_train[start:end]\n",
    "                y_val = y_train[start:end]\n",
    "                X_tr = np.concatenate((X_train[:start], X_train[end:]))\n",
    "                y_tr = np.concatenate((y_train[:start], y_train[end:]))\n",
    "                \n",
    "                # Train the model on the training fold\n",
    "                clf.fit(X_tr, y_tr)\n",
    "                \n",
    "                # Evaluate the model on the validation fold\n",
    "                score = clf.score(X_val, y_val)\n",
    "                scores.append(score)\n",
    "                \n",
    "            # Compute the average performance across all folds\n",
    "            score = np.mean(scores)\n",
    "            \n",
    "            \n",
    "            if score > best_score:\n",
    "                best_score = score\n",
    "                best_params = params\n",
    "        \n",
    "        self.best_params_ = best_params\n",
    "        self.best_score_ = best_score\n",
    "        self.best_estimator_ = ELMClassifier(**best_params)\n",
    "        self.best_estimator_.fit(X_train, y_train)\n",
    "        \n",
    "        return self\n",
    "        \n",
    "    def predict(self, X_test):\n",
    "        return self.best_estimator_.predict(X_test)\n",
    "param_grid = {\n",
    "    'n_neurons': [100, 200, 300,400,512,1000],\n",
    "    'ufunc': [ 'relu','tanh'],\n",
    "    'alpha': [0.001, 0.01, 0.1]\n",
    "}\n",
    "\n",
    "search = ELMGridSearch(param_grid,cv=5)\n",
    "search.fit(X_train, y_train)\n",
    "\n",
    "print(search.best_params_)\n",
    "print(search.best_score_)"
   ]
  },
  {
   "cell_type": "code",
   "execution_count": 34,
   "id": "49df17a1",
   "metadata": {},
   "outputs": [
    {
     "data": {
      "text/plain": [
       "ELMClassifier(alpha=0.1, n_neurons=400, ufunc='relu')"
      ]
     },
     "execution_count": 34,
     "metadata": {},
     "output_type": "execute_result"
    }
   ],
   "source": [
    "model_2 = ELMClassifier(n_neurons = 400,ufunc = 'relu',alpha = 0.1)\n",
    "model_2.fit(x_train_alt,y_train)"
   ]
  },
  {
   "cell_type": "code",
   "execution_count": 35,
   "id": "c1f150b0",
   "metadata": {},
   "outputs": [],
   "source": [
    "elm_preds = model_2.predict(x_train_alt)"
   ]
  },
  {
   "cell_type": "code",
   "execution_count": 36,
   "id": "af7e5960",
   "metadata": {},
   "outputs": [
    {
     "name": "stdout",
     "output_type": "stream",
     "text": [
      "Accuracy for our training dataset 93.21637426900585\n"
     ]
    }
   ],
   "source": [
    "accuracy_score(y_true = y_train, y_pred = elm_preds)\n",
    "print(\"Accuracy for our training dataset\",search.best_score_*100)"
   ]
  },
  {
   "cell_type": "code",
   "execution_count": 37,
   "id": "de58dc71",
   "metadata": {},
   "outputs": [
    {
     "name": "stdout",
     "output_type": "stream",
     "text": [
      "Recall for our training dataset 0.895906432748538\n"
     ]
    }
   ],
   "source": [
    "recall = recall_score(y_true = y_train, y_pred = elm_preds,average='weighted')\n",
    "print(\"Recall for our training dataset\",recall)"
   ]
  },
  {
   "cell_type": "code",
   "execution_count": 38,
   "id": "4f92cc22",
   "metadata": {},
   "outputs": [
    {
     "data": {
      "text/plain": [
       "array([[494,  46,  30],\n",
       "       [  1, 528,  41],\n",
       "       [ 37,  23, 510]])"
      ]
     },
     "execution_count": 38,
     "metadata": {},
     "output_type": "execute_result"
    }
   ],
   "source": [
    "cm= confusion_matrix(y_train,elm_preds)\n",
    "cm"
   ]
  },
  {
   "cell_type": "code",
   "execution_count": null,
   "id": "f348ef5c",
   "metadata": {},
   "outputs": [],
   "source": [
    "elm_preds = model_2.predict(x_test_alt)\n",
    "accuracy = accuracy_score(y_true = y_test, y_pred = elm_preds)\n",
    "print(\"Accuracy for testing dataset\",accuracy)\n",
    "recall = recall_score(y_true = y_test, y_pred = elm_preds,average='weighted')\n",
    "print(\"Recall for testing dataset\",recall)\n",
    "cm= confusion_matrix(y_test,elm_preds)\n",
    "cm"
   ]
  }
 ],
 "metadata": {
  "kernelspec": {
   "display_name": "Python 3 (ipykernel)",
   "language": "python",
   "name": "python3"
  },
  "language_info": {
   "codemirror_mode": {
    "name": "ipython",
    "version": 3
   },
   "file_extension": ".py",
   "mimetype": "text/x-python",
   "name": "python",
   "nbconvert_exporter": "python",
   "pygments_lexer": "ipython3",
   "version": "3.9.12"
  }
 },
 "nbformat": 4,
 "nbformat_minor": 5
}
